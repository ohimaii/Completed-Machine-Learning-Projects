{
 "cells": [
  {
   "cell_type": "markdown",
   "metadata": {},
   "source": [
    "# A Data-Dive Into Seattle Airbnb Rentals: End-to-End Data Analysis\n",
    "\n",
    "## Table of Contents\n",
    "- Introduction\n",
    "- Wrangling\n",
    "- Exploratory Data Analysis\n",
    "- Regression Analysis\n",
    "- Conclusion & Areas of Improvement"
   ]
  },
  {
   "cell_type": "markdown",
   "metadata": {},
   "source": [
    "## Introduction\n",
    "\n",
    "### Problem Statement\n",
    "The main purpose of this project is to explore the dynamics of Seattle Airbnb listings, with a focus on rental prices. On the road to doing this, we will undergo data wrangling, exploratory data analysis and multiple regression analysis. At the end of these project, we will draw conclusions, select the most useful features based on our analyses and propose future areas of improvement. We will answer the following questions about our data:\n",
    "\n",
    "- What is the distribution of listing prices in Seattle? Are they mostly cheap or expensive?\n",
    "- What are the average prices of listings by neighbourhood? What are the most expensive and least expensive neighbourhoods in Seattle?\n",
    "- What are the most popular Airbnb room and property types in Seattle? \n",
    "- What listing features would be most helpful if we wanted to predict rental prices?\n",
    "\n",
    "### Target Variable\n",
    "The target variable for this project is **Rental Price**.\n",
    "\n",
    "To begin the project, we start by importing the relevant Python modules that will be used."
   ]
  },
  {
   "cell_type": "code",
   "execution_count": 1,
   "metadata": {},
   "outputs": [],
   "source": [
    "import pandas as pd\n",
    "import numpy as np\n",
    "import matplotlib.pyplot as plt\n",
    "%matplotlib inline\n",
    "from patsy import dmatrices\n",
    "import seaborn as sns\n",
    "import statsmodels.api as sm\n",
    "from statsmodels.stats.outliers_influence import variance_inflation_factor"
   ]
  },
  {
   "cell_type": "markdown",
   "metadata": {},
   "source": [
    "## Wrangling\n",
    "In this section, we will load the data to be investigated, check for cleanliness and clean the dataset, ensuring it is ready for analysis."
   ]
  },
  {
   "cell_type": "markdown",
   "metadata": {},
   "source": [
    "### Load data\n",
    "\n",
    "We begin by loading the dataset to be investigated. This dataset can be downloaded [here](https://www.kaggle.com/airbnb/seattle). It consists of three csv files from which we have narrowed down to ten (10) potential input features based on the questions posed in the [introduction](#Introduction) section. We will also take a quick glance at the first 5 columns of each file to get a feel for what the data looks like. The code block to do these is found in the cell below."
   ]
  },
  {
   "cell_type": "code",
   "execution_count": 2,
   "metadata": {},
   "outputs": [],
   "source": [
    "# Load Data\n",
    "calendar = pd.read_csv('data/calendar.csv')\n",
    "listings = pd.read_csv('data/listings.csv')\n",
    "reviews = pd.read_csv('data/reviews.csv')"
   ]
  },
  {
   "cell_type": "code",
   "execution_count": 3,
   "metadata": {
    "scrolled": true
   },
   "outputs": [
    {
     "data": {
      "text/html": [
       "<div>\n",
       "<style scoped>\n",
       "    .dataframe tbody tr th:only-of-type {\n",
       "        vertical-align: middle;\n",
       "    }\n",
       "\n",
       "    .dataframe tbody tr th {\n",
       "        vertical-align: top;\n",
       "    }\n",
       "\n",
       "    .dataframe thead th {\n",
       "        text-align: right;\n",
       "    }\n",
       "</style>\n",
       "<table border=\"1\" class=\"dataframe\">\n",
       "  <thead>\n",
       "    <tr style=\"text-align: right;\">\n",
       "      <th></th>\n",
       "      <th>listing_id</th>\n",
       "      <th>date</th>\n",
       "      <th>available</th>\n",
       "      <th>price</th>\n",
       "    </tr>\n",
       "  </thead>\n",
       "  <tbody>\n",
       "    <tr>\n",
       "      <th>0</th>\n",
       "      <td>241032</td>\n",
       "      <td>2016-01-04</td>\n",
       "      <td>t</td>\n",
       "      <td>$85.00</td>\n",
       "    </tr>\n",
       "    <tr>\n",
       "      <th>1</th>\n",
       "      <td>241032</td>\n",
       "      <td>2016-01-05</td>\n",
       "      <td>t</td>\n",
       "      <td>$85.00</td>\n",
       "    </tr>\n",
       "    <tr>\n",
       "      <th>2</th>\n",
       "      <td>241032</td>\n",
       "      <td>2016-01-06</td>\n",
       "      <td>f</td>\n",
       "      <td>NaN</td>\n",
       "    </tr>\n",
       "    <tr>\n",
       "      <th>3</th>\n",
       "      <td>241032</td>\n",
       "      <td>2016-01-07</td>\n",
       "      <td>f</td>\n",
       "      <td>NaN</td>\n",
       "    </tr>\n",
       "    <tr>\n",
       "      <th>4</th>\n",
       "      <td>241032</td>\n",
       "      <td>2016-01-08</td>\n",
       "      <td>f</td>\n",
       "      <td>NaN</td>\n",
       "    </tr>\n",
       "  </tbody>\n",
       "</table>\n",
       "</div>"
      ],
      "text/plain": [
       "   listing_id        date available   price\n",
       "0      241032  2016-01-04         t  $85.00\n",
       "1      241032  2016-01-05         t  $85.00\n",
       "2      241032  2016-01-06         f     NaN\n",
       "3      241032  2016-01-07         f     NaN\n",
       "4      241032  2016-01-08         f     NaN"
      ]
     },
     "execution_count": 3,
     "metadata": {},
     "output_type": "execute_result"
    }
   ],
   "source": [
    "# First 5 rows for calendar.csv\n",
    "calendar.head()"
   ]
  },
  {
   "cell_type": "code",
   "execution_count": 4,
   "metadata": {
    "scrolled": true
   },
   "outputs": [
    {
     "data": {
      "text/html": [
       "<div>\n",
       "<style scoped>\n",
       "    .dataframe tbody tr th:only-of-type {\n",
       "        vertical-align: middle;\n",
       "    }\n",
       "\n",
       "    .dataframe tbody tr th {\n",
       "        vertical-align: top;\n",
       "    }\n",
       "\n",
       "    .dataframe thead th {\n",
       "        text-align: right;\n",
       "    }\n",
       "</style>\n",
       "<table border=\"1\" class=\"dataframe\">\n",
       "  <thead>\n",
       "    <tr style=\"text-align: right;\">\n",
       "      <th></th>\n",
       "      <th>id</th>\n",
       "      <th>listing_url</th>\n",
       "      <th>scrape_id</th>\n",
       "      <th>last_scraped</th>\n",
       "      <th>name</th>\n",
       "      <th>summary</th>\n",
       "      <th>space</th>\n",
       "      <th>description</th>\n",
       "      <th>experiences_offered</th>\n",
       "      <th>neighborhood_overview</th>\n",
       "      <th>...</th>\n",
       "      <th>review_scores_value</th>\n",
       "      <th>requires_license</th>\n",
       "      <th>license</th>\n",
       "      <th>jurisdiction_names</th>\n",
       "      <th>instant_bookable</th>\n",
       "      <th>cancellation_policy</th>\n",
       "      <th>require_guest_profile_picture</th>\n",
       "      <th>require_guest_phone_verification</th>\n",
       "      <th>calculated_host_listings_count</th>\n",
       "      <th>reviews_per_month</th>\n",
       "    </tr>\n",
       "  </thead>\n",
       "  <tbody>\n",
       "    <tr>\n",
       "      <th>0</th>\n",
       "      <td>241032</td>\n",
       "      <td>https://www.airbnb.com/rooms/241032</td>\n",
       "      <td>20160104002432</td>\n",
       "      <td>2016-01-04</td>\n",
       "      <td>Stylish Queen Anne Apartment</td>\n",
       "      <td>NaN</td>\n",
       "      <td>Make your self at home in this charming one-be...</td>\n",
       "      <td>Make your self at home in this charming one-be...</td>\n",
       "      <td>none</td>\n",
       "      <td>NaN</td>\n",
       "      <td>...</td>\n",
       "      <td>10.0</td>\n",
       "      <td>f</td>\n",
       "      <td>NaN</td>\n",
       "      <td>WASHINGTON</td>\n",
       "      <td>f</td>\n",
       "      <td>moderate</td>\n",
       "      <td>f</td>\n",
       "      <td>f</td>\n",
       "      <td>2</td>\n",
       "      <td>4.07</td>\n",
       "    </tr>\n",
       "    <tr>\n",
       "      <th>1</th>\n",
       "      <td>953595</td>\n",
       "      <td>https://www.airbnb.com/rooms/953595</td>\n",
       "      <td>20160104002432</td>\n",
       "      <td>2016-01-04</td>\n",
       "      <td>Bright &amp; Airy Queen Anne Apartment</td>\n",
       "      <td>Chemically sensitive? We've removed the irrita...</td>\n",
       "      <td>Beautiful, hypoallergenic apartment in an extr...</td>\n",
       "      <td>Chemically sensitive? We've removed the irrita...</td>\n",
       "      <td>none</td>\n",
       "      <td>Queen Anne is a wonderful, truly functional vi...</td>\n",
       "      <td>...</td>\n",
       "      <td>10.0</td>\n",
       "      <td>f</td>\n",
       "      <td>NaN</td>\n",
       "      <td>WASHINGTON</td>\n",
       "      <td>f</td>\n",
       "      <td>strict</td>\n",
       "      <td>t</td>\n",
       "      <td>t</td>\n",
       "      <td>6</td>\n",
       "      <td>1.48</td>\n",
       "    </tr>\n",
       "    <tr>\n",
       "      <th>2</th>\n",
       "      <td>3308979</td>\n",
       "      <td>https://www.airbnb.com/rooms/3308979</td>\n",
       "      <td>20160104002432</td>\n",
       "      <td>2016-01-04</td>\n",
       "      <td>New Modern House-Amazing water view</td>\n",
       "      <td>New modern house built in 2013.  Spectacular s...</td>\n",
       "      <td>Our house is modern, light and fresh with a wa...</td>\n",
       "      <td>New modern house built in 2013.  Spectacular s...</td>\n",
       "      <td>none</td>\n",
       "      <td>Upper Queen Anne is a charming neighborhood fu...</td>\n",
       "      <td>...</td>\n",
       "      <td>10.0</td>\n",
       "      <td>f</td>\n",
       "      <td>NaN</td>\n",
       "      <td>WASHINGTON</td>\n",
       "      <td>f</td>\n",
       "      <td>strict</td>\n",
       "      <td>f</td>\n",
       "      <td>f</td>\n",
       "      <td>2</td>\n",
       "      <td>1.15</td>\n",
       "    </tr>\n",
       "    <tr>\n",
       "      <th>3</th>\n",
       "      <td>7421966</td>\n",
       "      <td>https://www.airbnb.com/rooms/7421966</td>\n",
       "      <td>20160104002432</td>\n",
       "      <td>2016-01-04</td>\n",
       "      <td>Queen Anne Chateau</td>\n",
       "      <td>A charming apartment that sits atop Queen Anne...</td>\n",
       "      <td>NaN</td>\n",
       "      <td>A charming apartment that sits atop Queen Anne...</td>\n",
       "      <td>none</td>\n",
       "      <td>NaN</td>\n",
       "      <td>...</td>\n",
       "      <td>NaN</td>\n",
       "      <td>f</td>\n",
       "      <td>NaN</td>\n",
       "      <td>WASHINGTON</td>\n",
       "      <td>f</td>\n",
       "      <td>flexible</td>\n",
       "      <td>f</td>\n",
       "      <td>f</td>\n",
       "      <td>1</td>\n",
       "      <td>NaN</td>\n",
       "    </tr>\n",
       "    <tr>\n",
       "      <th>4</th>\n",
       "      <td>278830</td>\n",
       "      <td>https://www.airbnb.com/rooms/278830</td>\n",
       "      <td>20160104002432</td>\n",
       "      <td>2016-01-04</td>\n",
       "      <td>Charming craftsman 3 bdm house</td>\n",
       "      <td>Cozy family craftman house in beautiful neighb...</td>\n",
       "      <td>Cozy family craftman house in beautiful neighb...</td>\n",
       "      <td>Cozy family craftman house in beautiful neighb...</td>\n",
       "      <td>none</td>\n",
       "      <td>We are in the beautiful neighborhood of Queen ...</td>\n",
       "      <td>...</td>\n",
       "      <td>9.0</td>\n",
       "      <td>f</td>\n",
       "      <td>NaN</td>\n",
       "      <td>WASHINGTON</td>\n",
       "      <td>f</td>\n",
       "      <td>strict</td>\n",
       "      <td>f</td>\n",
       "      <td>f</td>\n",
       "      <td>1</td>\n",
       "      <td>0.89</td>\n",
       "    </tr>\n",
       "  </tbody>\n",
       "</table>\n",
       "<p>5 rows × 92 columns</p>\n",
       "</div>"
      ],
      "text/plain": [
       "        id                           listing_url       scrape_id last_scraped  \\\n",
       "0   241032   https://www.airbnb.com/rooms/241032  20160104002432   2016-01-04   \n",
       "1   953595   https://www.airbnb.com/rooms/953595  20160104002432   2016-01-04   \n",
       "2  3308979  https://www.airbnb.com/rooms/3308979  20160104002432   2016-01-04   \n",
       "3  7421966  https://www.airbnb.com/rooms/7421966  20160104002432   2016-01-04   \n",
       "4   278830   https://www.airbnb.com/rooms/278830  20160104002432   2016-01-04   \n",
       "\n",
       "                                  name  \\\n",
       "0         Stylish Queen Anne Apartment   \n",
       "1   Bright & Airy Queen Anne Apartment   \n",
       "2  New Modern House-Amazing water view   \n",
       "3                   Queen Anne Chateau   \n",
       "4       Charming craftsman 3 bdm house   \n",
       "\n",
       "                                             summary  \\\n",
       "0                                                NaN   \n",
       "1  Chemically sensitive? We've removed the irrita...   \n",
       "2  New modern house built in 2013.  Spectacular s...   \n",
       "3  A charming apartment that sits atop Queen Anne...   \n",
       "4  Cozy family craftman house in beautiful neighb...   \n",
       "\n",
       "                                               space  \\\n",
       "0  Make your self at home in this charming one-be...   \n",
       "1  Beautiful, hypoallergenic apartment in an extr...   \n",
       "2  Our house is modern, light and fresh with a wa...   \n",
       "3                                                NaN   \n",
       "4  Cozy family craftman house in beautiful neighb...   \n",
       "\n",
       "                                         description experiences_offered  \\\n",
       "0  Make your self at home in this charming one-be...                none   \n",
       "1  Chemically sensitive? We've removed the irrita...                none   \n",
       "2  New modern house built in 2013.  Spectacular s...                none   \n",
       "3  A charming apartment that sits atop Queen Anne...                none   \n",
       "4  Cozy family craftman house in beautiful neighb...                none   \n",
       "\n",
       "                               neighborhood_overview  ... review_scores_value  \\\n",
       "0                                                NaN  ...                10.0   \n",
       "1  Queen Anne is a wonderful, truly functional vi...  ...                10.0   \n",
       "2  Upper Queen Anne is a charming neighborhood fu...  ...                10.0   \n",
       "3                                                NaN  ...                 NaN   \n",
       "4  We are in the beautiful neighborhood of Queen ...  ...                 9.0   \n",
       "\n",
       "  requires_license license jurisdiction_names instant_bookable  \\\n",
       "0                f     NaN         WASHINGTON                f   \n",
       "1                f     NaN         WASHINGTON                f   \n",
       "2                f     NaN         WASHINGTON                f   \n",
       "3                f     NaN         WASHINGTON                f   \n",
       "4                f     NaN         WASHINGTON                f   \n",
       "\n",
       "  cancellation_policy  require_guest_profile_picture  \\\n",
       "0            moderate                              f   \n",
       "1              strict                              t   \n",
       "2              strict                              f   \n",
       "3            flexible                              f   \n",
       "4              strict                              f   \n",
       "\n",
       "  require_guest_phone_verification calculated_host_listings_count  \\\n",
       "0                                f                              2   \n",
       "1                                t                              6   \n",
       "2                                f                              2   \n",
       "3                                f                              1   \n",
       "4                                f                              1   \n",
       "\n",
       "  reviews_per_month  \n",
       "0              4.07  \n",
       "1              1.48  \n",
       "2              1.15  \n",
       "3               NaN  \n",
       "4              0.89  \n",
       "\n",
       "[5 rows x 92 columns]"
      ]
     },
     "execution_count": 4,
     "metadata": {},
     "output_type": "execute_result"
    }
   ],
   "source": [
    "# First 5 rows for listings.csv\n",
    "listings.head()"
   ]
  },
  {
   "cell_type": "code",
   "execution_count": 5,
   "metadata": {
    "scrolled": true
   },
   "outputs": [
    {
     "data": {
      "text/html": [
       "<div>\n",
       "<style scoped>\n",
       "    .dataframe tbody tr th:only-of-type {\n",
       "        vertical-align: middle;\n",
       "    }\n",
       "\n",
       "    .dataframe tbody tr th {\n",
       "        vertical-align: top;\n",
       "    }\n",
       "\n",
       "    .dataframe thead th {\n",
       "        text-align: right;\n",
       "    }\n",
       "</style>\n",
       "<table border=\"1\" class=\"dataframe\">\n",
       "  <thead>\n",
       "    <tr style=\"text-align: right;\">\n",
       "      <th></th>\n",
       "      <th>listing_id</th>\n",
       "      <th>id</th>\n",
       "      <th>date</th>\n",
       "      <th>reviewer_id</th>\n",
       "      <th>reviewer_name</th>\n",
       "      <th>comments</th>\n",
       "    </tr>\n",
       "  </thead>\n",
       "  <tbody>\n",
       "    <tr>\n",
       "      <th>0</th>\n",
       "      <td>7202016</td>\n",
       "      <td>38917982</td>\n",
       "      <td>2015-07-19</td>\n",
       "      <td>28943674</td>\n",
       "      <td>Bianca</td>\n",
       "      <td>Cute and cozy place. Perfect location to every...</td>\n",
       "    </tr>\n",
       "    <tr>\n",
       "      <th>1</th>\n",
       "      <td>7202016</td>\n",
       "      <td>39087409</td>\n",
       "      <td>2015-07-20</td>\n",
       "      <td>32440555</td>\n",
       "      <td>Frank</td>\n",
       "      <td>Kelly has a great room in a very central locat...</td>\n",
       "    </tr>\n",
       "    <tr>\n",
       "      <th>2</th>\n",
       "      <td>7202016</td>\n",
       "      <td>39820030</td>\n",
       "      <td>2015-07-26</td>\n",
       "      <td>37722850</td>\n",
       "      <td>Ian</td>\n",
       "      <td>Very spacious apartment, and in a great neighb...</td>\n",
       "    </tr>\n",
       "    <tr>\n",
       "      <th>3</th>\n",
       "      <td>7202016</td>\n",
       "      <td>40813543</td>\n",
       "      <td>2015-08-02</td>\n",
       "      <td>33671805</td>\n",
       "      <td>George</td>\n",
       "      <td>Close to Seattle Center and all it has to offe...</td>\n",
       "    </tr>\n",
       "    <tr>\n",
       "      <th>4</th>\n",
       "      <td>7202016</td>\n",
       "      <td>41986501</td>\n",
       "      <td>2015-08-10</td>\n",
       "      <td>34959538</td>\n",
       "      <td>Ming</td>\n",
       "      <td>Kelly was a great host and very accommodating ...</td>\n",
       "    </tr>\n",
       "  </tbody>\n",
       "</table>\n",
       "</div>"
      ],
      "text/plain": [
       "   listing_id        id        date  reviewer_id reviewer_name  \\\n",
       "0     7202016  38917982  2015-07-19     28943674        Bianca   \n",
       "1     7202016  39087409  2015-07-20     32440555         Frank   \n",
       "2     7202016  39820030  2015-07-26     37722850           Ian   \n",
       "3     7202016  40813543  2015-08-02     33671805        George   \n",
       "4     7202016  41986501  2015-08-10     34959538          Ming   \n",
       "\n",
       "                                            comments  \n",
       "0  Cute and cozy place. Perfect location to every...  \n",
       "1  Kelly has a great room in a very central locat...  \n",
       "2  Very spacious apartment, and in a great neighb...  \n",
       "3  Close to Seattle Center and all it has to offe...  \n",
       "4  Kelly was a great host and very accommodating ...  "
      ]
     },
     "execution_count": 5,
     "metadata": {},
     "output_type": "execute_result"
    }
   ],
   "source": [
    "# First 5 rows for reviews.csv\n",
    "reviews.head()"
   ]
  },
  {
   "cell_type": "markdown",
   "metadata": {},
   "source": [
    "#### Descriptions of Attributes we will be working with\n",
    "- listing_id: Unique identification number for each Airbnb listing\n",
    "- neighbourhood_group_cleansed: Condensed neighbourhood grouping with most important and \"other\"\n",
    "- property_type: Type of property for each listing\n",
    "- room_type: Type of room being rented out for each listing\n",
    "- accommodates: Number of guests each listing can accommodate\n",
    "- bathrooms: Number of bathrooms for each listing\n",
    "- bedrooms: Number of bedrooms for each listing\n",
    "- beds: Number of bed in each listing\n",
    "- square_feet: Area measurement in square feet for each listing\n",
    "- review_scores_value: Average review score for each listing (scale of 1-10)\n",
    "- price: Rental Price of each listing\n",
    "\n",
    "This means we will **not** be using the **reviews** table"
   ]
  },
  {
   "cell_type": "markdown",
   "metadata": {},
   "source": [
    "#### Select relevant columns and create new dataframes for them\n"
   ]
  },
  {
   "cell_type": "code",
   "execution_count": 6,
   "metadata": {},
   "outputs": [],
   "source": [
    "# Select columns from calendar and listings tables\n",
    "\n",
    "calendar = calendar.drop(['date', 'available'], axis = 1)\n",
    "listings = listings[['id', 'neighbourhood_group_cleansed', 'property_type', 'room_type', 'accommodates', 'bathrooms', 'bedrooms', 'beds', 'square_feet', 'review_scores_value']]\n"
   ]
  },
  {
   "cell_type": "code",
   "execution_count": 7,
   "metadata": {},
   "outputs": [],
   "source": [
    "# Rename id column in listings_new to match listing_id in calendar_new\n",
    "#calendar_new.rename(columns = {'listing_id':'id'}, inplace = True)"
   ]
  },
  {
   "cell_type": "code",
   "execution_count": 8,
   "metadata": {
    "scrolled": true
   },
   "outputs": [],
   "source": [
    "# Check column name\n",
    "#calendar_new.info()"
   ]
  },
  {
   "cell_type": "code",
   "execution_count": 9,
   "metadata": {},
   "outputs": [],
   "source": [
    "# Join tables\n",
    "#df = calendar_new.merge(listings_new, on = 'id', how = 'left')\n",
    "#df.head()"
   ]
  },
  {
   "cell_type": "markdown",
   "metadata": {},
   "source": [
    "### Check for Cleanliness"
   ]
  },
  {
   "cell_type": "markdown",
   "metadata": {},
   "source": [
    "There are three common factors (amongst others) to look into when determining the cleanliness of a dataset. These are:\n",
    "\n",
    "- Incorrect Data types in columns\n",
    "- Duplication in rows - first in column attributes that should be unique, and then in the row's entirety\n",
    "- Missing values and the columns that have them\n",
    "\n",
    "First, we identify these major issues, then we check for any possible minor issues, before we finally clean the data itself.\n",
    "\n",
    "In addition to cleaning the data, we will need to join data sources as well from the calendar csv and the listings csv."
   ]
  },
  {
   "cell_type": "code",
   "execution_count": 10,
   "metadata": {
    "scrolled": true
   },
   "outputs": [
    {
     "data": {
      "text/html": [
       "<div>\n",
       "<style scoped>\n",
       "    .dataframe tbody tr th:only-of-type {\n",
       "        vertical-align: middle;\n",
       "    }\n",
       "\n",
       "    .dataframe tbody tr th {\n",
       "        vertical-align: top;\n",
       "    }\n",
       "\n",
       "    .dataframe thead th {\n",
       "        text-align: right;\n",
       "    }\n",
       "</style>\n",
       "<table border=\"1\" class=\"dataframe\">\n",
       "  <thead>\n",
       "    <tr style=\"text-align: right;\">\n",
       "      <th></th>\n",
       "      <th>listing_id</th>\n",
       "      <th>price</th>\n",
       "    </tr>\n",
       "  </thead>\n",
       "  <tbody>\n",
       "    <tr>\n",
       "      <th>0</th>\n",
       "      <td>241032</td>\n",
       "      <td>$85.00</td>\n",
       "    </tr>\n",
       "    <tr>\n",
       "      <th>1</th>\n",
       "      <td>241032</td>\n",
       "      <td>$85.00</td>\n",
       "    </tr>\n",
       "    <tr>\n",
       "      <th>2</th>\n",
       "      <td>241032</td>\n",
       "      <td>NaN</td>\n",
       "    </tr>\n",
       "    <tr>\n",
       "      <th>3</th>\n",
       "      <td>241032</td>\n",
       "      <td>NaN</td>\n",
       "    </tr>\n",
       "    <tr>\n",
       "      <th>4</th>\n",
       "      <td>241032</td>\n",
       "      <td>NaN</td>\n",
       "    </tr>\n",
       "  </tbody>\n",
       "</table>\n",
       "</div>"
      ],
      "text/plain": [
       "   listing_id   price\n",
       "0      241032  $85.00\n",
       "1      241032  $85.00\n",
       "2      241032     NaN\n",
       "3      241032     NaN\n",
       "4      241032     NaN"
      ]
     },
     "execution_count": 10,
     "metadata": {},
     "output_type": "execute_result"
    }
   ],
   "source": [
    "# Check new calendar dataframe\n",
    "calendar.head()"
   ]
  },
  {
   "cell_type": "code",
   "execution_count": 11,
   "metadata": {},
   "outputs": [
    {
     "data": {
      "text/plain": [
       "(1393570, 2)"
      ]
     },
     "execution_count": 11,
     "metadata": {},
     "output_type": "execute_result"
    }
   ],
   "source": [
    "# Check shape of calendar dataframe\n",
    "calendar.shape"
   ]
  },
  {
   "cell_type": "code",
   "execution_count": 12,
   "metadata": {},
   "outputs": [
    {
     "name": "stdout",
     "output_type": "stream",
     "text": [
      "<class 'pandas.core.frame.DataFrame'>\n",
      "RangeIndex: 1393570 entries, 0 to 1393569\n",
      "Data columns (total 2 columns):\n",
      " #   Column      Non-Null Count    Dtype \n",
      "---  ------      --------------    ----- \n",
      " 0   listing_id  1393570 non-null  int64 \n",
      " 1   price       934542 non-null   object\n",
      "dtypes: int64(1), object(1)\n",
      "memory usage: 21.3+ MB\n"
     ]
    }
   ],
   "source": [
    "# Check calendar dataframe info\n",
    "calendar.info()"
   ]
  },
  {
   "cell_type": "markdown",
   "metadata": {},
   "source": [
    "From ```calendar.info()```, we see that the 'price' column has the datatype ```object```, when it should ideally be ```float``` for computation reasons. We will address converting this in the Data Cleaning section."
   ]
  },
  {
   "cell_type": "code",
   "execution_count": 13,
   "metadata": {
    "scrolled": true
   },
   "outputs": [
    {
     "data": {
      "text/html": [
       "<div>\n",
       "<style scoped>\n",
       "    .dataframe tbody tr th:only-of-type {\n",
       "        vertical-align: middle;\n",
       "    }\n",
       "\n",
       "    .dataframe tbody tr th {\n",
       "        vertical-align: top;\n",
       "    }\n",
       "\n",
       "    .dataframe thead th {\n",
       "        text-align: right;\n",
       "    }\n",
       "</style>\n",
       "<table border=\"1\" class=\"dataframe\">\n",
       "  <thead>\n",
       "    <tr style=\"text-align: right;\">\n",
       "      <th></th>\n",
       "      <th>id</th>\n",
       "      <th>neighbourhood_group_cleansed</th>\n",
       "      <th>property_type</th>\n",
       "      <th>room_type</th>\n",
       "      <th>accommodates</th>\n",
       "      <th>bathrooms</th>\n",
       "      <th>bedrooms</th>\n",
       "      <th>beds</th>\n",
       "      <th>square_feet</th>\n",
       "      <th>review_scores_value</th>\n",
       "    </tr>\n",
       "  </thead>\n",
       "  <tbody>\n",
       "    <tr>\n",
       "      <th>0</th>\n",
       "      <td>241032</td>\n",
       "      <td>Queen Anne</td>\n",
       "      <td>Apartment</td>\n",
       "      <td>Entire home/apt</td>\n",
       "      <td>4</td>\n",
       "      <td>1.0</td>\n",
       "      <td>1.0</td>\n",
       "      <td>1.0</td>\n",
       "      <td>NaN</td>\n",
       "      <td>10.0</td>\n",
       "    </tr>\n",
       "    <tr>\n",
       "      <th>1</th>\n",
       "      <td>953595</td>\n",
       "      <td>Queen Anne</td>\n",
       "      <td>Apartment</td>\n",
       "      <td>Entire home/apt</td>\n",
       "      <td>4</td>\n",
       "      <td>1.0</td>\n",
       "      <td>1.0</td>\n",
       "      <td>1.0</td>\n",
       "      <td>NaN</td>\n",
       "      <td>10.0</td>\n",
       "    </tr>\n",
       "    <tr>\n",
       "      <th>2</th>\n",
       "      <td>3308979</td>\n",
       "      <td>Queen Anne</td>\n",
       "      <td>House</td>\n",
       "      <td>Entire home/apt</td>\n",
       "      <td>11</td>\n",
       "      <td>4.5</td>\n",
       "      <td>5.0</td>\n",
       "      <td>7.0</td>\n",
       "      <td>NaN</td>\n",
       "      <td>10.0</td>\n",
       "    </tr>\n",
       "    <tr>\n",
       "      <th>3</th>\n",
       "      <td>7421966</td>\n",
       "      <td>Queen Anne</td>\n",
       "      <td>Apartment</td>\n",
       "      <td>Entire home/apt</td>\n",
       "      <td>3</td>\n",
       "      <td>1.0</td>\n",
       "      <td>0.0</td>\n",
       "      <td>2.0</td>\n",
       "      <td>NaN</td>\n",
       "      <td>NaN</td>\n",
       "    </tr>\n",
       "    <tr>\n",
       "      <th>4</th>\n",
       "      <td>278830</td>\n",
       "      <td>Queen Anne</td>\n",
       "      <td>House</td>\n",
       "      <td>Entire home/apt</td>\n",
       "      <td>6</td>\n",
       "      <td>2.0</td>\n",
       "      <td>3.0</td>\n",
       "      <td>3.0</td>\n",
       "      <td>NaN</td>\n",
       "      <td>9.0</td>\n",
       "    </tr>\n",
       "  </tbody>\n",
       "</table>\n",
       "</div>"
      ],
      "text/plain": [
       "        id neighbourhood_group_cleansed property_type        room_type  \\\n",
       "0   241032                   Queen Anne     Apartment  Entire home/apt   \n",
       "1   953595                   Queen Anne     Apartment  Entire home/apt   \n",
       "2  3308979                   Queen Anne         House  Entire home/apt   \n",
       "3  7421966                   Queen Anne     Apartment  Entire home/apt   \n",
       "4   278830                   Queen Anne         House  Entire home/apt   \n",
       "\n",
       "   accommodates  bathrooms  bedrooms  beds  square_feet  review_scores_value  \n",
       "0             4        1.0       1.0   1.0          NaN                 10.0  \n",
       "1             4        1.0       1.0   1.0          NaN                 10.0  \n",
       "2            11        4.5       5.0   7.0          NaN                 10.0  \n",
       "3             3        1.0       0.0   2.0          NaN                  NaN  \n",
       "4             6        2.0       3.0   3.0          NaN                  9.0  "
      ]
     },
     "execution_count": 13,
     "metadata": {},
     "output_type": "execute_result"
    }
   ],
   "source": [
    "# Check new listings dataframe\n",
    "listings.head()"
   ]
  },
  {
   "cell_type": "code",
   "execution_count": 14,
   "metadata": {
    "scrolled": true
   },
   "outputs": [
    {
     "data": {
      "text/plain": [
       "(3818, 10)"
      ]
     },
     "execution_count": 14,
     "metadata": {},
     "output_type": "execute_result"
    }
   ],
   "source": [
    "# Check shape of listings dataframe\n",
    "listings.shape"
   ]
  },
  {
   "cell_type": "code",
   "execution_count": 15,
   "metadata": {
    "scrolled": true
   },
   "outputs": [
    {
     "name": "stdout",
     "output_type": "stream",
     "text": [
      "<class 'pandas.core.frame.DataFrame'>\n",
      "RangeIndex: 3818 entries, 0 to 3817\n",
      "Data columns (total 10 columns):\n",
      " #   Column                        Non-Null Count  Dtype  \n",
      "---  ------                        --------------  -----  \n",
      " 0   id                            3818 non-null   int64  \n",
      " 1   neighbourhood_group_cleansed  3818 non-null   object \n",
      " 2   property_type                 3817 non-null   object \n",
      " 3   room_type                     3818 non-null   object \n",
      " 4   accommodates                  3818 non-null   int64  \n",
      " 5   bathrooms                     3802 non-null   float64\n",
      " 6   bedrooms                      3812 non-null   float64\n",
      " 7   beds                          3817 non-null   float64\n",
      " 8   square_feet                   97 non-null     float64\n",
      " 9   review_scores_value           3162 non-null   float64\n",
      "dtypes: float64(5), int64(2), object(3)\n",
      "memory usage: 298.4+ KB\n"
     ]
    }
   ],
   "source": [
    "# Check listings dataframe info\n",
    "listings.info()"
   ]
  },
  {
   "cell_type": "code",
   "execution_count": 16,
   "metadata": {},
   "outputs": [
    {
     "name": "stdout",
     "output_type": "stream",
     "text": [
      "[ 1.  7.  2.  3. 15.  5.  4.  6.  9.  8. nan 10.]\n"
     ]
    }
   ],
   "source": [
    "print(listings.beds.unique())"
   ]
  },
  {
   "cell_type": "markdown",
   "metadata": {},
   "source": [
    "In cell above, we explore the the unique values in the 'beds' column in 'listings'. From this, we see that the data type for this should be converted to ```int```, as clearly, there is no need to represent it as a ```float```."
   ]
  },
  {
   "cell_type": "markdown",
   "metadata": {},
   "source": [
    "This difference in number of rows, the info tables as well as the first 5 columns seen earlier tells us that there are duplicate values in the 'listing_id' column of the calendar table. This makes sense due to the same listing being booked on different days. We will take care of eliminating this in the data cleaning section."
   ]
  },
  {
   "cell_type": "markdown",
   "metadata": {},
   "source": [
    "Since the 'square_feet' column has only 97 non-null values, we will need to delete (drop) it as there simply isn't enough data here to work with. We will do this in the Data Cleaning section"
   ]
  },
  {
   "cell_type": "markdown",
   "metadata": {},
   "source": [
    "Next, let's access missing value info in each column for each dataframe."
   ]
  },
  {
   "cell_type": "code",
   "execution_count": 17,
   "metadata": {},
   "outputs": [
    {
     "data": {
      "text/plain": [
       "id                                 0\n",
       "neighbourhood_group_cleansed       0\n",
       "property_type                      1\n",
       "room_type                          0\n",
       "accommodates                       0\n",
       "bathrooms                         16\n",
       "bedrooms                           6\n",
       "beds                               1\n",
       "square_feet                     3721\n",
       "review_scores_value              656\n",
       "dtype: int64"
      ]
     },
     "execution_count": 17,
     "metadata": {},
     "output_type": "execute_result"
    }
   ],
   "source": [
    "# Missing value info for each column in listings dataframe\n",
    "listings.isnull().sum()"
   ]
  },
  {
   "cell_type": "code",
   "execution_count": 18,
   "metadata": {
    "scrolled": false
   },
   "outputs": [
    {
     "data": {
      "text/plain": [
       "listing_id         0\n",
       "price         459028\n",
       "dtype: int64"
      ]
     },
     "execution_count": 18,
     "metadata": {},
     "output_type": "execute_result"
    }
   ],
   "source": [
    "# Missing value info for each column in calendar dataframe\n",
    "calendar.isnull().sum()"
   ]
  },
  {
   "cell_type": "markdown",
   "metadata": {},
   "source": [
    "We see that the 'price' column in 'calendar' as well as the 'property_type', 'bathrooms', 'bedrooms', 'beds', 'square_feet' and 'review_scores_value' columns in 'listings' are all culprits. In the Data Cleaning section, we will handle these missing values."
   ]
  },
  {
   "cell_type": "code",
   "execution_count": 19,
   "metadata": {},
   "outputs": [
    {
     "data": {
      "text/plain": [
       "array(['$85.00', '$85.00', nan, ..., nan, nan, nan], dtype=object)"
      ]
     },
     "execution_count": 19,
     "metadata": {},
     "output_type": "execute_result"
    }
   ],
   "source": [
    "np.array(calendar['price'])"
   ]
  },
  {
   "cell_type": "code",
   "execution_count": 20,
   "metadata": {},
   "outputs": [
    {
     "data": {
      "text/plain": [
       "1364256"
      ]
     },
     "execution_count": 20,
     "metadata": {},
     "output_type": "execute_result"
    }
   ],
   "source": [
    "# Number of duplicated rows in calendar dataframe\n",
    "sum(calendar.duplicated())"
   ]
  },
  {
   "cell_type": "code",
   "execution_count": 21,
   "metadata": {},
   "outputs": [
    {
     "data": {
      "text/plain": [
       "0"
      ]
     },
     "execution_count": 21,
     "metadata": {},
     "output_type": "execute_result"
    }
   ],
   "source": [
    "# Number of duplicated rows in listings dataframe\n",
    "sum(listings.duplicated())"
   ]
  },
  {
   "cell_type": "markdown",
   "metadata": {},
   "source": [
    "We see that there are many duplicated rows in the ```calendar``` dataframe and none in the ```listings``` dataframe. Again this will be addressed in the Data Cleaning section."
   ]
  },
  {
   "cell_type": "markdown",
   "metadata": {},
   "source": [
    "Finally, in order to properly make use of the data we have from ```calendar``` and ```listings``` dataframes, we would need to join them together. This will be the last step in the Data Cleaning section."
   ]
  },
  {
   "cell_type": "markdown",
   "metadata": {},
   "source": [
    "### Data Cleaning"
   ]
  },
  {
   "cell_type": "markdown",
   "metadata": {},
   "source": [
    "In this section will address the data cleanliness issues that were documented in the \"Check for Cleanliness\" section. We will be working in this order:\n",
    "\n",
    "- Drop the 'square_feet' column in the 'listings' dataframe\n",
    "- Drop rows containing missing values in both dataframes\n",
    "- Change the data types of the 'price' column in the calendar dataframe and the 'beds' column in the 'listings' dataframe\n",
    "- Average out prices for each unique listing id in the calendar table to handle those repetitions\n",
    "- Finally, join the two dataframes together"
   ]
  },
  {
   "cell_type": "markdown",
   "metadata": {},
   "source": [
    "#### Drop the 'square_feet' column in the 'listings' dataframe"
   ]
  },
  {
   "cell_type": "code",
   "execution_count": 22,
   "metadata": {},
   "outputs": [],
   "source": [
    "# Drop square_feet column\n",
    "listings.drop(columns = ['square_feet'], inplace = True)"
   ]
  },
  {
   "cell_type": "code",
   "execution_count": 23,
   "metadata": {
    "scrolled": true
   },
   "outputs": [
    {
     "name": "stdout",
     "output_type": "stream",
     "text": [
      "<class 'pandas.core.frame.DataFrame'>\n",
      "RangeIndex: 3818 entries, 0 to 3817\n",
      "Data columns (total 9 columns):\n",
      " #   Column                        Non-Null Count  Dtype  \n",
      "---  ------                        --------------  -----  \n",
      " 0   id                            3818 non-null   int64  \n",
      " 1   neighbourhood_group_cleansed  3818 non-null   object \n",
      " 2   property_type                 3817 non-null   object \n",
      " 3   room_type                     3818 non-null   object \n",
      " 4   accommodates                  3818 non-null   int64  \n",
      " 5   bathrooms                     3802 non-null   float64\n",
      " 6   bedrooms                      3812 non-null   float64\n",
      " 7   beds                          3817 non-null   float64\n",
      " 8   review_scores_value           3162 non-null   float64\n",
      "dtypes: float64(4), int64(2), object(3)\n",
      "memory usage: 268.6+ KB\n"
     ]
    }
   ],
   "source": [
    "# Check that square_feet column is dropped\n",
    "listings.info()"
   ]
  },
  {
   "cell_type": "markdown",
   "metadata": {},
   "source": [
    "We have successfully dropped the 'square_feet' column in the 'listings' dataframe"
   ]
  },
  {
   "cell_type": "markdown",
   "metadata": {},
   "source": [
    "#### Drop rows containing missing values in both dataframes"
   ]
  },
  {
   "cell_type": "code",
   "execution_count": 24,
   "metadata": {},
   "outputs": [],
   "source": [
    "# Drop rows with missing values in calendar dataframe\n",
    "calendar.dropna(inplace = True)"
   ]
  },
  {
   "cell_type": "code",
   "execution_count": 25,
   "metadata": {
    "scrolled": true
   },
   "outputs": [
    {
     "data": {
      "text/plain": [
       "listing_id    0\n",
       "price         0\n",
       "dtype: int64"
      ]
     },
     "execution_count": 25,
     "metadata": {},
     "output_type": "execute_result"
    }
   ],
   "source": [
    "# Check that there are no more missing values in calendar dataframe\n",
    "calendar.isnull().sum()"
   ]
  },
  {
   "cell_type": "code",
   "execution_count": 26,
   "metadata": {},
   "outputs": [],
   "source": [
    "# Drop rows with missing values in listings dataframe\n",
    "listings.dropna(inplace = True)"
   ]
  },
  {
   "cell_type": "code",
   "execution_count": 27,
   "metadata": {
    "scrolled": false
   },
   "outputs": [
    {
     "data": {
      "text/plain": [
       "id                              0\n",
       "neighbourhood_group_cleansed    0\n",
       "property_type                   0\n",
       "room_type                       0\n",
       "accommodates                    0\n",
       "bathrooms                       0\n",
       "bedrooms                        0\n",
       "beds                            0\n",
       "review_scores_value             0\n",
       "dtype: int64"
      ]
     },
     "execution_count": 27,
     "metadata": {},
     "output_type": "execute_result"
    }
   ],
   "source": [
    "# Check that there are no more missing values in listings dataframe\n",
    "listings.isnull().sum()"
   ]
  },
  {
   "cell_type": "markdown",
   "metadata": {},
   "source": [
    "Our dataframes are now missing-value-free!"
   ]
  },
  {
   "cell_type": "markdown",
   "metadata": {},
   "source": [
    "#### Change dtype of 'price' column in 'calendar' and 'beds' column in 'listings'"
   ]
  },
  {
   "cell_type": "code",
   "execution_count": 28,
   "metadata": {},
   "outputs": [],
   "source": [
    "# Clean up the 'price' column by removing visible roadblocks to datatype conversion\n",
    "\n",
    "calendar['price'] = calendar['price'].str.replace('$', '')\n",
    "calendar['price'] = calendar['price'].str.replace(',', '')"
   ]
  },
  {
   "cell_type": "markdown",
   "metadata": {},
   "source": [
    "In the cell above, we replaced the visible roadblocks to conversion from object to float by removing commas and currency signs. In the cell below, we will have a quick glance at the array of unique values in this column to see if any other changes jump out at us."
   ]
  },
  {
   "cell_type": "code",
   "execution_count": 29,
   "metadata": {},
   "outputs": [
    {
     "data": {
      "text/plain": [
       "array(['85.00', '125.00', '154.00', '164.00', '165.00', '150.00',\n",
       "       '145.00', '144.00', '148.00', '155.00', '149.00', '156.00',\n",
       "       '166.00', '152.00', '147.00', '146.00', '151.00', '158.00',\n",
       "       '168.00', '169.00', '192.00', '175.00', '162.00', '171.00',\n",
       "       '173.00', '153.00', '177.00', '183.00', '181.00', '170.00',\n",
       "       '179.00', '167.00', '184.00', '186.00', '172.00', '180.00',\n",
       "       '190.00', '178.00', '196.00', '197.00', '202.00', '198.00',\n",
       "       '205.00', '214.00', '218.00', '211.00', '193.00', '204.00',\n",
       "       '189.00', '187.00', '194.00', '185.00', '206.00', '191.00',\n",
       "       '207.00', '208.00', '188.00', '200.00', '209.00', '210.00',\n",
       "       '195.00', '201.00', '199.00', '203.00', '182.00', '163.00',\n",
       "       '159.00', '157.00', '142.00', '136.00', '134.00', '137.00',\n",
       "       '143.00', '135.00', '141.00', '130.00', '138.00', '133.00',\n",
       "       '129.00', '127.00', '126.00', '131.00', '132.00', '220.00',\n",
       "       '222.00', '223.00', '232.00', '217.00', '229.00', '294.00',\n",
       "       '358.00', '439.00', '400.00', '975.00', '750.00', '500.00',\n",
       "       '650.00', '675.00', '1250.00', '1450.00', '1650.00', '100.00',\n",
       "       '600.00', '450.00', '475.00', '120.00', '140.00', '80.00', '42.00',\n",
       "       '49.00', '60.00', '48.00', '47.00', '52.00', '51.00', '50.00',\n",
       "       '53.00', '61.00', '54.00', '62.00', '55.00', '90.00', '139.00',\n",
       "       '95.00', '69.00', '71.00', '74.00', '81.00', '84.00', '76.00',\n",
       "       '82.00', '86.00', '83.00', '89.00', '88.00', '72.00', '99.00',\n",
       "       '245.00', '98.00', '103.00', '104.00', '112.00', '122.00',\n",
       "       '115.00', '118.00', '117.00', '124.00', '119.00', '250.00',\n",
       "       '399.00', '549.00', '468.00', '419.00', '420.00', '455.00',\n",
       "       '514.00', '547.00', '571.00', '627.00', '665.00', '654.00',\n",
       "       '590.00', '581.00', '579.00', '589.00', '629.00', '640.00',\n",
       "       '611.00', '584.00', '570.00', '551.00', '530.00', '594.00',\n",
       "       '614.00', '604.00', '602.00', '612.00', '649.00', '655.00',\n",
       "       '638.00', '625.00', '616.00', '613.00', '633.00', '656.00',\n",
       "       '642.00', '636.00', '644.00', '630.00', '621.00', '800.00',\n",
       "       '461.00', '109.00', '56.00', '57.00', '58.00', '59.00', '63.00',\n",
       "       '64.00', '65.00', '67.00', '75.00', '66.00', '700.00', '110.00',\n",
       "       '310.00', '312.00', '315.00', '321.00', '550.00', '43.00', '45.00',\n",
       "       '44.00', '46.00', '280.00', '300.00', '325.00', '350.00', '375.00',\n",
       "       '161.00', '174.00', '176.00', '226.00', '213.00', '212.00',\n",
       "       '221.00', '225.00', '216.00', '227.00', '231.00', '236.00',\n",
       "       '240.00', '251.00', '254.00', '255.00', '246.00', '248.00',\n",
       "       '230.00', '235.00', '238.00', '215.00', '237.00', '228.00',\n",
       "       '242.00', '224.00', '241.00', '244.00', '233.00', '243.00',\n",
       "       '234.00', '247.00', '239.00', '219.00', '160.00', '128.00',\n",
       "       '257.00', '259.00', '261.00', '272.00', '252.00', '320.00',\n",
       "       '402.00', '445.00', '501.00', '452.00', '249.00', '395.00',\n",
       "       '108.00', '285.00', '113.00', '348.00', '91.00', '92.00', '97.00',\n",
       "       '93.00', '94.00', '96.00', '102.00', '105.00', '111.00', '106.00',\n",
       "       '114.00', '121.00', '116.00', '123.00', '1240.00', '349.00',\n",
       "       '449.00', '20.00', '70.00', '68.00', '73.00', '79.00', '77.00',\n",
       "       '78.00', '334.00', '341.00', '369.00', '385.00', '430.00',\n",
       "       '441.00', '398.00', '357.00', '364.00', '362.00', '371.00',\n",
       "       '438.00', '378.00', '401.00', '444.00', '403.00', '373.00',\n",
       "       '367.00', '384.00', '409.00', '448.00', '456.00', '414.00',\n",
       "       '470.00', '386.00', '428.00', '467.00', '425.00', '392.00',\n",
       "       '404.00', '432.00', '480.00', '391.00', '405.00', '477.00',\n",
       "       '483.00', '412.00', '485.00', '493.00', '442.00', '423.00',\n",
       "       '496.00', '502.00', '464.00', '433.00', '427.00', '474.00',\n",
       "       '525.00', '536.00', '465.00', '437.00', '473.00', '494.00',\n",
       "       '531.00', '592.00', '607.00', '523.00', '546.00', '572.00',\n",
       "       '595.00', '634.00', '693.00', '709.00', '598.00', '624.00',\n",
       "       '657.00', '695.00', '666.00', '619.00', '609.00', '631.00',\n",
       "       '670.00', '735.00', '745.00', '669.00', '683.00', '751.00',\n",
       "       '759.00', '685.00', '698.00', '780.00', '794.00', '652.00',\n",
       "       '674.00', '743.00', '662.00', '622.00', '668.00', '724.00',\n",
       "       '716.00', '722.00', '686.00', '637.00', '626.00', '643.00',\n",
       "       '737.00', '744.00', '663.00', '620.00', '608.00', '639.00',\n",
       "       '593.00', '574.00', '39.00', '31.00', '30.00', '33.00', '40.00',\n",
       "       '38.00', '41.00', '25.00', '282.00', '339.00', '390.00', '355.00',\n",
       "       '107.00', '275.00', '35.00', '34.00', '273.00', '293.00', '260.00',\n",
       "       '302.00', '266.00', '267.00', '291.00', '271.00', '258.00',\n",
       "       '269.00', '301.00', '308.00', '278.00', '276.00', '309.00',\n",
       "       '253.00', '279.00', '313.00', '264.00', '286.00', '289.00',\n",
       "       '268.00', '331.00', '270.00', '299.00', '329.00', '297.00',\n",
       "       '274.00', '332.00', '288.00', '306.00', '340.00', '346.00',\n",
       "       '296.00', '314.00', '324.00', '303.00', '376.00', '290.00',\n",
       "       '330.00', '345.00', '424.00', '365.00', '382.00', '416.00',\n",
       "       '443.00', '489.00', '422.00', '436.00', '459.00', '486.00',\n",
       "       '466.00', '426.00', '515.00', '522.00', '478.00', '526.00',\n",
       "       '532.00', '479.00', '543.00', '553.00', '87.00', '101.00', '37.00',\n",
       "       '265.00', '322.00', '307.00', '338.00', '311.00', '298.00',\n",
       "       '323.00', '327.00', '363.00', '342.00', '353.00', '383.00',\n",
       "       '354.00', '397.00', '368.00', '360.00', '374.00', '359.00',\n",
       "       '356.00', '379.00', '408.00', '361.00', '407.00', '413.00',\n",
       "       '388.00', '411.00', '389.00', '415.00', '406.00', '410.00',\n",
       "       '396.00', '344.00', '351.00', '381.00', '366.00', '352.00',\n",
       "       '316.00', '347.00', '317.00', '284.00', '319.00', '287.00',\n",
       "       '305.00', '292.00', '256.00', '380.00', '277.00', '482.00',\n",
       "       '658.00', '708.00', '262.00', '435.00', '393.00', '328.00',\n",
       "       '535.00', '446.00', '472.00', '899.00', '999.00', '1099.00',\n",
       "       '1199.00', '749.00', '295.00', '335.00', '499.00', '680.00',\n",
       "       '333.00', '421.00', '575.00', '326.00', '318.00', '370.00',\n",
       "       '372.00', '377.00', '417.00', '431.00', '463.00', '429.00',\n",
       "       '454.00', '440.00', '281.00', '336.00', '394.00', '387.00',\n",
       "       '537.00', '520.00', '512.00', '498.00', '506.00', '659.00',\n",
       "       '676.00', '610.00', '490.00', '564.00', '491.00', '651.00',\n",
       "       '552.00', '460.00', '775.00', '29.00', '36.00', '32.00', '565.00',\n",
       "       '28.00', '263.00', '538.00', '487.00', '484.00', '453.00',\n",
       "       '457.00', '488.00', '557.00', '283.00', '337.00', '343.00',\n",
       "       '447.00', '27.00', '22.00', '23.00', '26.00', '495.00', '418.00',\n",
       "       '12.00', '469.00', '462.00', '505.00', '509.00', '507.00',\n",
       "       '511.00', '476.00', '434.00', '516.00', '576.00', '573.00',\n",
       "       '540.00', '544.00', '578.00', '541.00', '542.00', '585.00',\n",
       "       '569.00', '568.00', '939.00', '304.00', '508.00', '510.00',\n",
       "       '562.00', '825.00', '723.00', '727.00', '733.00', '628.00',\n",
       "       '599.00', '10.00', '900.00', '1000.00', '24.00', '504.00',\n",
       "       '548.00', '513.00', '539.00', '517.00', '673.00', '711.00',\n",
       "       '788.00', '901.00', '817.00', '545.00', '451.00', '481.00',\n",
       "       '527.00', '519.00', '560.00', '563.00', '646.00', '618.00',\n",
       "       '623.00', '596.00', '567.00', '566.00', '534.00', '503.00',\n",
       "       '603.00', '784.00', '850.00', '950.00', '524.00', '471.00',\n",
       "       '533.00', '583.00', '554.00'], dtype=object)"
      ]
     },
     "execution_count": 29,
     "metadata": {},
     "output_type": "execute_result"
    }
   ],
   "source": [
    "calendar['price'].unique()"
   ]
  },
  {
   "cell_type": "markdown",
   "metadata": {},
   "source": [
    "Looks good to me! Now we can convert this column's data type from object to float. We do this in the cell below"
   ]
  },
  {
   "cell_type": "code",
   "execution_count": 30,
   "metadata": {},
   "outputs": [],
   "source": [
    "# Convert the 'price' column dtype from object to float\n",
    "calendar['price'] = calendar['price'].astype(float)"
   ]
  },
  {
   "cell_type": "markdown",
   "metadata": {},
   "source": [
    "No error so it looks like everything is fine. Let's check the calendar dataframe info just to make sure!"
   ]
  },
  {
   "cell_type": "code",
   "execution_count": 31,
   "metadata": {
    "scrolled": true
   },
   "outputs": [
    {
     "name": "stdout",
     "output_type": "stream",
     "text": [
      "<class 'pandas.core.frame.DataFrame'>\n",
      "Int64Index: 934542 entries, 0 to 1393213\n",
      "Data columns (total 2 columns):\n",
      " #   Column      Non-Null Count   Dtype  \n",
      "---  ------      --------------   -----  \n",
      " 0   listing_id  934542 non-null  int64  \n",
      " 1   price       934542 non-null  float64\n",
      "dtypes: float64(1), int64(1)\n",
      "memory usage: 21.4 MB\n"
     ]
    }
   ],
   "source": [
    "# Check conversion\n",
    "calendar.info()"
   ]
  },
  {
   "cell_type": "markdown",
   "metadata": {},
   "source": [
    "We have successfully converted the 'price' column datatype from object to float. Now, we convert the 'beds' column datatype from float to int. We already viewed the unique values in this column in the \"Check for Cleanliness\" section and did not find any roadblocks to conversion, so we will just go ahead and convert it."
   ]
  },
  {
   "cell_type": "code",
   "execution_count": 32,
   "metadata": {},
   "outputs": [],
   "source": [
    "# Convert the 'beds' column dtype from float to int\n",
    "listings['beds'] = listings['beds'].astype(int)"
   ]
  },
  {
   "cell_type": "code",
   "execution_count": 33,
   "metadata": {},
   "outputs": [
    {
     "name": "stdout",
     "output_type": "stream",
     "text": [
      "<class 'pandas.core.frame.DataFrame'>\n",
      "Int64Index: 3144 entries, 0 to 3814\n",
      "Data columns (total 9 columns):\n",
      " #   Column                        Non-Null Count  Dtype  \n",
      "---  ------                        --------------  -----  \n",
      " 0   id                            3144 non-null   int64  \n",
      " 1   neighbourhood_group_cleansed  3144 non-null   object \n",
      " 2   property_type                 3144 non-null   object \n",
      " 3   room_type                     3144 non-null   object \n",
      " 4   accommodates                  3144 non-null   int64  \n",
      " 5   bathrooms                     3144 non-null   float64\n",
      " 6   bedrooms                      3144 non-null   float64\n",
      " 7   beds                          3144 non-null   int64  \n",
      " 8   review_scores_value           3144 non-null   float64\n",
      "dtypes: float64(3), int64(3), object(3)\n",
      "memory usage: 245.6+ KB\n"
     ]
    }
   ],
   "source": [
    "# Check conversion\n",
    "listings.info()"
   ]
  },
  {
   "cell_type": "markdown",
   "metadata": {},
   "source": [
    "Next, we will need to reset index numbers for both dataframes, as is standard procedure after dropping rows (and it makes our data look cleaner!). We know we need to do this by looking at the info for the dataframes in the last few cells. For the calendar dataframe, we see \"Int64Index: 934542 entries, 0 to 1393213\", and for the listings dataframe, we see \"Int64Index: 3144 entries, 0 to 3814\""
   ]
  },
  {
   "cell_type": "code",
   "execution_count": 34,
   "metadata": {},
   "outputs": [],
   "source": [
    "# Reset index for both dataframes\n",
    "calendar.reset_index(drop = True, inplace = True)\n",
    "listings.reset_index(drop = True, inplace = True)"
   ]
  },
  {
   "cell_type": "code",
   "execution_count": 35,
   "metadata": {},
   "outputs": [
    {
     "name": "stdout",
     "output_type": "stream",
     "text": [
      "<class 'pandas.core.frame.DataFrame'>\n",
      "RangeIndex: 934542 entries, 0 to 934541\n",
      "Data columns (total 2 columns):\n",
      " #   Column      Non-Null Count   Dtype  \n",
      "---  ------      --------------   -----  \n",
      " 0   listing_id  934542 non-null  int64  \n",
      " 1   price       934542 non-null  float64\n",
      "dtypes: float64(1), int64(1)\n",
      "memory usage: 14.3 MB\n"
     ]
    }
   ],
   "source": [
    "# Check info to confirm change for calendar\n",
    "calendar.info()"
   ]
  },
  {
   "cell_type": "code",
   "execution_count": 36,
   "metadata": {},
   "outputs": [
    {
     "name": "stdout",
     "output_type": "stream",
     "text": [
      "<class 'pandas.core.frame.DataFrame'>\n",
      "RangeIndex: 3144 entries, 0 to 3143\n",
      "Data columns (total 9 columns):\n",
      " #   Column                        Non-Null Count  Dtype  \n",
      "---  ------                        --------------  -----  \n",
      " 0   id                            3144 non-null   int64  \n",
      " 1   neighbourhood_group_cleansed  3144 non-null   object \n",
      " 2   property_type                 3144 non-null   object \n",
      " 3   room_type                     3144 non-null   object \n",
      " 4   accommodates                  3144 non-null   int64  \n",
      " 5   bathrooms                     3144 non-null   float64\n",
      " 6   bedrooms                      3144 non-null   float64\n",
      " 7   beds                          3144 non-null   int64  \n",
      " 8   review_scores_value           3144 non-null   float64\n",
      "dtypes: float64(3), int64(3), object(3)\n",
      "memory usage: 221.2+ KB\n"
     ]
    }
   ],
   "source": [
    "# Check info to confirm change for listings\n",
    "listings.info()"
   ]
  },
  {
   "cell_type": "markdown",
   "metadata": {},
   "source": [
    "Great! Next, we will average out prices for each unique listing id in the calendar table to handle those repetitions."
   ]
  },
  {
   "cell_type": "markdown",
   "metadata": {},
   "source": [
    "#### Average out prices for each unique listing id in the calendar table\n",
    "\n",
    "We will accomplish this using the ```.groupby()``` function. "
   ]
  },
  {
   "cell_type": "code",
   "execution_count": 37,
   "metadata": {
    "scrolled": true
   },
   "outputs": [
    {
     "data": {
      "text/html": [
       "<div>\n",
       "<style scoped>\n",
       "    .dataframe tbody tr th:only-of-type {\n",
       "        vertical-align: middle;\n",
       "    }\n",
       "\n",
       "    .dataframe tbody tr th {\n",
       "        vertical-align: top;\n",
       "    }\n",
       "\n",
       "    .dataframe thead th {\n",
       "        text-align: right;\n",
       "    }\n",
       "</style>\n",
       "<table border=\"1\" class=\"dataframe\">\n",
       "  <thead>\n",
       "    <tr style=\"text-align: right;\">\n",
       "      <th></th>\n",
       "      <th>price</th>\n",
       "    </tr>\n",
       "    <tr>\n",
       "      <th>listing_id</th>\n",
       "      <th></th>\n",
       "    </tr>\n",
       "  </thead>\n",
       "  <tbody>\n",
       "    <tr>\n",
       "      <th>3335</th>\n",
       "      <td>120.000000</td>\n",
       "    </tr>\n",
       "    <tr>\n",
       "      <th>4291</th>\n",
       "      <td>82.000000</td>\n",
       "    </tr>\n",
       "    <tr>\n",
       "      <th>5682</th>\n",
       "      <td>53.944984</td>\n",
       "    </tr>\n",
       "    <tr>\n",
       "      <th>6606</th>\n",
       "      <td>92.849315</td>\n",
       "    </tr>\n",
       "    <tr>\n",
       "      <th>7369</th>\n",
       "      <td>85.000000</td>\n",
       "    </tr>\n",
       "  </tbody>\n",
       "</table>\n",
       "</div>"
      ],
      "text/plain": [
       "                 price\n",
       "listing_id            \n",
       "3335        120.000000\n",
       "4291         82.000000\n",
       "5682         53.944984\n",
       "6606         92.849315\n",
       "7369         85.000000"
      ]
     },
     "execution_count": 37,
     "metadata": {},
     "output_type": "execute_result"
    }
   ],
   "source": [
    "# Group average price by listing id\n",
    "calendar = calendar.groupby('listing_id').mean()\n",
    "calendar.head()"
   ]
  },
  {
   "cell_type": "markdown",
   "metadata": {},
   "source": [
    "Then, we use ```.reset_index()``` to take it from a groupby series back to a dataframe"
   ]
  },
  {
   "cell_type": "code",
   "execution_count": 38,
   "metadata": {
    "scrolled": true
   },
   "outputs": [],
   "source": [
    "# Reset the index of the calendar dataframe\n",
    "calendar = calendar.reset_index()"
   ]
  },
  {
   "cell_type": "code",
   "execution_count": 39,
   "metadata": {},
   "outputs": [
    {
     "data": {
      "text/html": [
       "<div>\n",
       "<style scoped>\n",
       "    .dataframe tbody tr th:only-of-type {\n",
       "        vertical-align: middle;\n",
       "    }\n",
       "\n",
       "    .dataframe tbody tr th {\n",
       "        vertical-align: top;\n",
       "    }\n",
       "\n",
       "    .dataframe thead th {\n",
       "        text-align: right;\n",
       "    }\n",
       "</style>\n",
       "<table border=\"1\" class=\"dataframe\">\n",
       "  <thead>\n",
       "    <tr style=\"text-align: right;\">\n",
       "      <th></th>\n",
       "      <th>listing_id</th>\n",
       "      <th>price</th>\n",
       "    </tr>\n",
       "  </thead>\n",
       "  <tbody>\n",
       "    <tr>\n",
       "      <th>0</th>\n",
       "      <td>3335</td>\n",
       "      <td>120.000000</td>\n",
       "    </tr>\n",
       "    <tr>\n",
       "      <th>1</th>\n",
       "      <td>4291</td>\n",
       "      <td>82.000000</td>\n",
       "    </tr>\n",
       "    <tr>\n",
       "      <th>2</th>\n",
       "      <td>5682</td>\n",
       "      <td>53.944984</td>\n",
       "    </tr>\n",
       "    <tr>\n",
       "      <th>3</th>\n",
       "      <td>6606</td>\n",
       "      <td>92.849315</td>\n",
       "    </tr>\n",
       "    <tr>\n",
       "      <th>4</th>\n",
       "      <td>7369</td>\n",
       "      <td>85.000000</td>\n",
       "    </tr>\n",
       "  </tbody>\n",
       "</table>\n",
       "</div>"
      ],
      "text/plain": [
       "   listing_id       price\n",
       "0        3335  120.000000\n",
       "1        4291   82.000000\n",
       "2        5682   53.944984\n",
       "3        6606   92.849315\n",
       "4        7369   85.000000"
      ]
     },
     "execution_count": 39,
     "metadata": {},
     "output_type": "execute_result"
    }
   ],
   "source": [
    "calendar.head()"
   ]
  },
  {
   "cell_type": "markdown",
   "metadata": {},
   "source": [
    "#### Join the calendar and listing dataframes together."
   ]
  },
  {
   "cell_type": "markdown",
   "metadata": {},
   "source": [
    "Finally, we join the ```calendar``` and ```listing``` dataframes together."
   ]
  },
  {
   "cell_type": "code",
   "execution_count": 40,
   "metadata": {},
   "outputs": [],
   "source": [
    "# Rename id column in listings_new to match listing_id in calendar_new\n",
    "calendar.rename(columns = {'listing_id':'id'}, inplace = True)"
   ]
  },
  {
   "cell_type": "code",
   "execution_count": 41,
   "metadata": {},
   "outputs": [
    {
     "name": "stdout",
     "output_type": "stream",
     "text": [
      "<class 'pandas.core.frame.DataFrame'>\n",
      "RangeIndex: 3723 entries, 0 to 3722\n",
      "Data columns (total 2 columns):\n",
      " #   Column  Non-Null Count  Dtype  \n",
      "---  ------  --------------  -----  \n",
      " 0   id      3723 non-null   int64  \n",
      " 1   price   3723 non-null   float64\n",
      "dtypes: float64(1), int64(1)\n",
      "memory usage: 58.3 KB\n"
     ]
    }
   ],
   "source": [
    "# Check column name\n",
    "calendar.info()"
   ]
  },
  {
   "cell_type": "code",
   "execution_count": 42,
   "metadata": {},
   "outputs": [],
   "source": [
    "# Join tables\n",
    "df = calendar.merge(listings, on = 'id', how = 'left')"
   ]
  },
  {
   "cell_type": "code",
   "execution_count": 43,
   "metadata": {
    "scrolled": true
   },
   "outputs": [
    {
     "data": {
      "text/html": [
       "<div>\n",
       "<style scoped>\n",
       "    .dataframe tbody tr th:only-of-type {\n",
       "        vertical-align: middle;\n",
       "    }\n",
       "\n",
       "    .dataframe tbody tr th {\n",
       "        vertical-align: top;\n",
       "    }\n",
       "\n",
       "    .dataframe thead th {\n",
       "        text-align: right;\n",
       "    }\n",
       "</style>\n",
       "<table border=\"1\" class=\"dataframe\">\n",
       "  <thead>\n",
       "    <tr style=\"text-align: right;\">\n",
       "      <th></th>\n",
       "      <th>id</th>\n",
       "      <th>price</th>\n",
       "      <th>neighbourhood_group_cleansed</th>\n",
       "      <th>property_type</th>\n",
       "      <th>room_type</th>\n",
       "      <th>accommodates</th>\n",
       "      <th>bathrooms</th>\n",
       "      <th>bedrooms</th>\n",
       "      <th>beds</th>\n",
       "      <th>review_scores_value</th>\n",
       "    </tr>\n",
       "  </thead>\n",
       "  <tbody>\n",
       "    <tr>\n",
       "      <th>0</th>\n",
       "      <td>3335</td>\n",
       "      <td>120.000000</td>\n",
       "      <td>NaN</td>\n",
       "      <td>NaN</td>\n",
       "      <td>NaN</td>\n",
       "      <td>NaN</td>\n",
       "      <td>NaN</td>\n",
       "      <td>NaN</td>\n",
       "      <td>NaN</td>\n",
       "      <td>NaN</td>\n",
       "    </tr>\n",
       "    <tr>\n",
       "      <th>1</th>\n",
       "      <td>4291</td>\n",
       "      <td>82.000000</td>\n",
       "      <td>Other neighborhoods</td>\n",
       "      <td>House</td>\n",
       "      <td>Private room</td>\n",
       "      <td>2.0</td>\n",
       "      <td>1.0</td>\n",
       "      <td>1.0</td>\n",
       "      <td>1.0</td>\n",
       "      <td>9.0</td>\n",
       "    </tr>\n",
       "    <tr>\n",
       "      <th>2</th>\n",
       "      <td>5682</td>\n",
       "      <td>53.944984</td>\n",
       "      <td>Delridge</td>\n",
       "      <td>Apartment</td>\n",
       "      <td>Entire home/apt</td>\n",
       "      <td>2.0</td>\n",
       "      <td>1.0</td>\n",
       "      <td>1.0</td>\n",
       "      <td>1.0</td>\n",
       "      <td>10.0</td>\n",
       "    </tr>\n",
       "    <tr>\n",
       "      <th>3</th>\n",
       "      <td>6606</td>\n",
       "      <td>92.849315</td>\n",
       "      <td>Other neighborhoods</td>\n",
       "      <td>Apartment</td>\n",
       "      <td>Entire home/apt</td>\n",
       "      <td>2.0</td>\n",
       "      <td>1.0</td>\n",
       "      <td>1.0</td>\n",
       "      <td>1.0</td>\n",
       "      <td>9.0</td>\n",
       "    </tr>\n",
       "    <tr>\n",
       "      <th>4</th>\n",
       "      <td>7369</td>\n",
       "      <td>85.000000</td>\n",
       "      <td>Capitol Hill</td>\n",
       "      <td>Condominium</td>\n",
       "      <td>Entire home/apt</td>\n",
       "      <td>2.0</td>\n",
       "      <td>1.0</td>\n",
       "      <td>1.0</td>\n",
       "      <td>1.0</td>\n",
       "      <td>9.0</td>\n",
       "    </tr>\n",
       "  </tbody>\n",
       "</table>\n",
       "</div>"
      ],
      "text/plain": [
       "     id       price neighbourhood_group_cleansed property_type  \\\n",
       "0  3335  120.000000                          NaN           NaN   \n",
       "1  4291   82.000000          Other neighborhoods         House   \n",
       "2  5682   53.944984                     Delridge     Apartment   \n",
       "3  6606   92.849315          Other neighborhoods     Apartment   \n",
       "4  7369   85.000000                 Capitol Hill   Condominium   \n",
       "\n",
       "         room_type  accommodates  bathrooms  bedrooms  beds  \\\n",
       "0              NaN           NaN        NaN       NaN   NaN   \n",
       "1     Private room           2.0        1.0       1.0   1.0   \n",
       "2  Entire home/apt           2.0        1.0       1.0   1.0   \n",
       "3  Entire home/apt           2.0        1.0       1.0   1.0   \n",
       "4  Entire home/apt           2.0        1.0       1.0   1.0   \n",
       "\n",
       "   review_scores_value  \n",
       "0                  NaN  \n",
       "1                  9.0  \n",
       "2                 10.0  \n",
       "3                  9.0  \n",
       "4                  9.0  "
      ]
     },
     "execution_count": 43,
     "metadata": {},
     "output_type": "execute_result"
    }
   ],
   "source": [
    "df.head()"
   ]
  },
  {
   "cell_type": "code",
   "execution_count": 44,
   "metadata": {
    "scrolled": true
   },
   "outputs": [
    {
     "data": {
      "text/plain": [
       "id                                0\n",
       "price                             0\n",
       "neighbourhood_group_cleansed    649\n",
       "property_type                   649\n",
       "room_type                       649\n",
       "accommodates                    649\n",
       "bathrooms                       649\n",
       "bedrooms                        649\n",
       "beds                            649\n",
       "review_scores_value             649\n",
       "dtype: int64"
      ]
     },
     "execution_count": 44,
     "metadata": {},
     "output_type": "execute_result"
    }
   ],
   "source": [
    "# Check for missing values\n",
    "df.isnull().sum()"
   ]
  },
  {
   "cell_type": "code",
   "execution_count": 45,
   "metadata": {},
   "outputs": [],
   "source": [
    "# Drop rows with missing values - We do this because each value represents a particular\n",
    "# listing, so averaging from other listings will not be appropriate\n",
    "df.dropna(inplace = True)"
   ]
  },
  {
   "cell_type": "code",
   "execution_count": 46,
   "metadata": {},
   "outputs": [
    {
     "name": "stdout",
     "output_type": "stream",
     "text": [
      "<class 'pandas.core.frame.DataFrame'>\n",
      "Int64Index: 3074 entries, 1 to 3660\n",
      "Data columns (total 10 columns):\n",
      " #   Column                        Non-Null Count  Dtype  \n",
      "---  ------                        --------------  -----  \n",
      " 0   id                            3074 non-null   int64  \n",
      " 1   price                         3074 non-null   float64\n",
      " 2   neighbourhood_group_cleansed  3074 non-null   object \n",
      " 3   property_type                 3074 non-null   object \n",
      " 4   room_type                     3074 non-null   object \n",
      " 5   accommodates                  3074 non-null   float64\n",
      " 6   bathrooms                     3074 non-null   float64\n",
      " 7   bedrooms                      3074 non-null   float64\n",
      " 8   beds                          3074 non-null   float64\n",
      " 9   review_scores_value           3074 non-null   float64\n",
      "dtypes: float64(6), int64(1), object(3)\n",
      "memory usage: 264.2+ KB\n"
     ]
    }
   ],
   "source": [
    "df.info()"
   ]
  },
  {
   "cell_type": "code",
   "execution_count": 47,
   "metadata": {},
   "outputs": [],
   "source": [
    "# Reset the index of our joined dataframe\n",
    "df.reset_index(drop = True, inplace = True)"
   ]
  },
  {
   "cell_type": "code",
   "execution_count": 48,
   "metadata": {},
   "outputs": [
    {
     "data": {
      "text/html": [
       "<div>\n",
       "<style scoped>\n",
       "    .dataframe tbody tr th:only-of-type {\n",
       "        vertical-align: middle;\n",
       "    }\n",
       "\n",
       "    .dataframe tbody tr th {\n",
       "        vertical-align: top;\n",
       "    }\n",
       "\n",
       "    .dataframe thead th {\n",
       "        text-align: right;\n",
       "    }\n",
       "</style>\n",
       "<table border=\"1\" class=\"dataframe\">\n",
       "  <thead>\n",
       "    <tr style=\"text-align: right;\">\n",
       "      <th></th>\n",
       "      <th>id</th>\n",
       "      <th>price</th>\n",
       "      <th>neighbourhood_group_cleansed</th>\n",
       "      <th>property_type</th>\n",
       "      <th>room_type</th>\n",
       "      <th>accommodates</th>\n",
       "      <th>bathrooms</th>\n",
       "      <th>bedrooms</th>\n",
       "      <th>beds</th>\n",
       "      <th>review_scores_value</th>\n",
       "    </tr>\n",
       "  </thead>\n",
       "  <tbody>\n",
       "    <tr>\n",
       "      <th>0</th>\n",
       "      <td>4291</td>\n",
       "      <td>82.000000</td>\n",
       "      <td>Other neighborhoods</td>\n",
       "      <td>House</td>\n",
       "      <td>Private room</td>\n",
       "      <td>2.0</td>\n",
       "      <td>1.0</td>\n",
       "      <td>1.0</td>\n",
       "      <td>1.0</td>\n",
       "      <td>9.0</td>\n",
       "    </tr>\n",
       "    <tr>\n",
       "      <th>1</th>\n",
       "      <td>5682</td>\n",
       "      <td>53.944984</td>\n",
       "      <td>Delridge</td>\n",
       "      <td>Apartment</td>\n",
       "      <td>Entire home/apt</td>\n",
       "      <td>2.0</td>\n",
       "      <td>1.0</td>\n",
       "      <td>1.0</td>\n",
       "      <td>1.0</td>\n",
       "      <td>10.0</td>\n",
       "    </tr>\n",
       "    <tr>\n",
       "      <th>2</th>\n",
       "      <td>6606</td>\n",
       "      <td>92.849315</td>\n",
       "      <td>Other neighborhoods</td>\n",
       "      <td>Apartment</td>\n",
       "      <td>Entire home/apt</td>\n",
       "      <td>2.0</td>\n",
       "      <td>1.0</td>\n",
       "      <td>1.0</td>\n",
       "      <td>1.0</td>\n",
       "      <td>9.0</td>\n",
       "    </tr>\n",
       "    <tr>\n",
       "      <th>3</th>\n",
       "      <td>7369</td>\n",
       "      <td>85.000000</td>\n",
       "      <td>Capitol Hill</td>\n",
       "      <td>Condominium</td>\n",
       "      <td>Entire home/apt</td>\n",
       "      <td>2.0</td>\n",
       "      <td>1.0</td>\n",
       "      <td>1.0</td>\n",
       "      <td>1.0</td>\n",
       "      <td>9.0</td>\n",
       "    </tr>\n",
       "    <tr>\n",
       "      <th>4</th>\n",
       "      <td>9419</td>\n",
       "      <td>85.616438</td>\n",
       "      <td>Other neighborhoods</td>\n",
       "      <td>House</td>\n",
       "      <td>Private room</td>\n",
       "      <td>2.0</td>\n",
       "      <td>3.0</td>\n",
       "      <td>1.0</td>\n",
       "      <td>1.0</td>\n",
       "      <td>9.0</td>\n",
       "    </tr>\n",
       "  </tbody>\n",
       "</table>\n",
       "</div>"
      ],
      "text/plain": [
       "     id      price neighbourhood_group_cleansed property_type  \\\n",
       "0  4291  82.000000          Other neighborhoods         House   \n",
       "1  5682  53.944984                     Delridge     Apartment   \n",
       "2  6606  92.849315          Other neighborhoods     Apartment   \n",
       "3  7369  85.000000                 Capitol Hill   Condominium   \n",
       "4  9419  85.616438          Other neighborhoods         House   \n",
       "\n",
       "         room_type  accommodates  bathrooms  bedrooms  beds  \\\n",
       "0     Private room           2.0        1.0       1.0   1.0   \n",
       "1  Entire home/apt           2.0        1.0       1.0   1.0   \n",
       "2  Entire home/apt           2.0        1.0       1.0   1.0   \n",
       "3  Entire home/apt           2.0        1.0       1.0   1.0   \n",
       "4     Private room           2.0        3.0       1.0   1.0   \n",
       "\n",
       "   review_scores_value  \n",
       "0                  9.0  \n",
       "1                 10.0  \n",
       "2                  9.0  \n",
       "3                  9.0  \n",
       "4                  9.0  "
      ]
     },
     "execution_count": 48,
     "metadata": {},
     "output_type": "execute_result"
    }
   ],
   "source": [
    "df.head(5)"
   ]
  },
  {
   "cell_type": "markdown",
   "metadata": {},
   "source": [
    "#### Post-join cleaning\n",
    "\n",
    "- Convert id from int to object\n",
    "- Convert accommodates, bedrooms and beds from float to int"
   ]
  },
  {
   "cell_type": "code",
   "execution_count": 49,
   "metadata": {},
   "outputs": [],
   "source": [
    "# Convert id from int to object\n",
    "df['id'] = df['id'].astype(str)"
   ]
  },
  {
   "cell_type": "code",
   "execution_count": 50,
   "metadata": {},
   "outputs": [],
   "source": [
    "# Convert accommodates, bedrooms and beds from float to int\n",
    "df['accommodates'] = df['accommodates'].astype(int)\n",
    "df['bedrooms'] = df['bedrooms'].astype(int)\n",
    "df['beds'] = df['beds'].astype(int)"
   ]
  },
  {
   "cell_type": "code",
   "execution_count": 51,
   "metadata": {},
   "outputs": [
    {
     "name": "stdout",
     "output_type": "stream",
     "text": [
      "<class 'pandas.core.frame.DataFrame'>\n",
      "RangeIndex: 3074 entries, 0 to 3073\n",
      "Data columns (total 10 columns):\n",
      " #   Column                        Non-Null Count  Dtype  \n",
      "---  ------                        --------------  -----  \n",
      " 0   id                            3074 non-null   object \n",
      " 1   price                         3074 non-null   float64\n",
      " 2   neighbourhood_group_cleansed  3074 non-null   object \n",
      " 3   property_type                 3074 non-null   object \n",
      " 4   room_type                     3074 non-null   object \n",
      " 5   accommodates                  3074 non-null   int64  \n",
      " 6   bathrooms                     3074 non-null   float64\n",
      " 7   bedrooms                      3074 non-null   int64  \n",
      " 8   beds                          3074 non-null   int64  \n",
      " 9   review_scores_value           3074 non-null   float64\n",
      "dtypes: float64(3), int64(3), object(4)\n",
      "memory usage: 240.3+ KB\n"
     ]
    }
   ],
   "source": [
    "df.info()"
   ]
  },
  {
   "cell_type": "code",
   "execution_count": 52,
   "metadata": {
    "scrolled": true
   },
   "outputs": [
    {
     "data": {
      "text/html": [
       "<div>\n",
       "<style scoped>\n",
       "    .dataframe tbody tr th:only-of-type {\n",
       "        vertical-align: middle;\n",
       "    }\n",
       "\n",
       "    .dataframe tbody tr th {\n",
       "        vertical-align: top;\n",
       "    }\n",
       "\n",
       "    .dataframe thead th {\n",
       "        text-align: right;\n",
       "    }\n",
       "</style>\n",
       "<table border=\"1\" class=\"dataframe\">\n",
       "  <thead>\n",
       "    <tr style=\"text-align: right;\">\n",
       "      <th></th>\n",
       "      <th>id</th>\n",
       "      <th>price</th>\n",
       "      <th>neighbourhood_group_cleansed</th>\n",
       "      <th>property_type</th>\n",
       "      <th>room_type</th>\n",
       "      <th>accommodates</th>\n",
       "      <th>bathrooms</th>\n",
       "      <th>bedrooms</th>\n",
       "      <th>beds</th>\n",
       "      <th>review_scores_value</th>\n",
       "    </tr>\n",
       "  </thead>\n",
       "  <tbody>\n",
       "    <tr>\n",
       "      <th>0</th>\n",
       "      <td>4291</td>\n",
       "      <td>82.000000</td>\n",
       "      <td>Other neighborhoods</td>\n",
       "      <td>House</td>\n",
       "      <td>Private room</td>\n",
       "      <td>2</td>\n",
       "      <td>1.0</td>\n",
       "      <td>1</td>\n",
       "      <td>1</td>\n",
       "      <td>9.0</td>\n",
       "    </tr>\n",
       "    <tr>\n",
       "      <th>1</th>\n",
       "      <td>5682</td>\n",
       "      <td>53.944984</td>\n",
       "      <td>Delridge</td>\n",
       "      <td>Apartment</td>\n",
       "      <td>Entire home/apt</td>\n",
       "      <td>2</td>\n",
       "      <td>1.0</td>\n",
       "      <td>1</td>\n",
       "      <td>1</td>\n",
       "      <td>10.0</td>\n",
       "    </tr>\n",
       "    <tr>\n",
       "      <th>2</th>\n",
       "      <td>6606</td>\n",
       "      <td>92.849315</td>\n",
       "      <td>Other neighborhoods</td>\n",
       "      <td>Apartment</td>\n",
       "      <td>Entire home/apt</td>\n",
       "      <td>2</td>\n",
       "      <td>1.0</td>\n",
       "      <td>1</td>\n",
       "      <td>1</td>\n",
       "      <td>9.0</td>\n",
       "    </tr>\n",
       "    <tr>\n",
       "      <th>3</th>\n",
       "      <td>7369</td>\n",
       "      <td>85.000000</td>\n",
       "      <td>Capitol Hill</td>\n",
       "      <td>Condominium</td>\n",
       "      <td>Entire home/apt</td>\n",
       "      <td>2</td>\n",
       "      <td>1.0</td>\n",
       "      <td>1</td>\n",
       "      <td>1</td>\n",
       "      <td>9.0</td>\n",
       "    </tr>\n",
       "    <tr>\n",
       "      <th>4</th>\n",
       "      <td>9419</td>\n",
       "      <td>85.616438</td>\n",
       "      <td>Other neighborhoods</td>\n",
       "      <td>House</td>\n",
       "      <td>Private room</td>\n",
       "      <td>2</td>\n",
       "      <td>3.0</td>\n",
       "      <td>1</td>\n",
       "      <td>1</td>\n",
       "      <td>9.0</td>\n",
       "    </tr>\n",
       "    <tr>\n",
       "      <th>5</th>\n",
       "      <td>9460</td>\n",
       "      <td>113.736842</td>\n",
       "      <td>Downtown</td>\n",
       "      <td>Bed &amp; Breakfast</td>\n",
       "      <td>Private room</td>\n",
       "      <td>2</td>\n",
       "      <td>1.0</td>\n",
       "      <td>1</td>\n",
       "      <td>1</td>\n",
       "      <td>10.0</td>\n",
       "    </tr>\n",
       "    <tr>\n",
       "      <th>6</th>\n",
       "      <td>9531</td>\n",
       "      <td>169.500000</td>\n",
       "      <td>West Seattle</td>\n",
       "      <td>House</td>\n",
       "      <td>Entire home/apt</td>\n",
       "      <td>4</td>\n",
       "      <td>1.0</td>\n",
       "      <td>2</td>\n",
       "      <td>5</td>\n",
       "      <td>10.0</td>\n",
       "    </tr>\n",
       "    <tr>\n",
       "      <th>7</th>\n",
       "      <td>9534</td>\n",
       "      <td>125.000000</td>\n",
       "      <td>West Seattle</td>\n",
       "      <td>House</td>\n",
       "      <td>Entire home/apt</td>\n",
       "      <td>3</td>\n",
       "      <td>1.0</td>\n",
       "      <td>2</td>\n",
       "      <td>2</td>\n",
       "      <td>10.0</td>\n",
       "    </tr>\n",
       "    <tr>\n",
       "      <th>8</th>\n",
       "      <td>9596</td>\n",
       "      <td>121.404959</td>\n",
       "      <td>Other neighborhoods</td>\n",
       "      <td>Apartment</td>\n",
       "      <td>Entire home/apt</td>\n",
       "      <td>6</td>\n",
       "      <td>1.0</td>\n",
       "      <td>1</td>\n",
       "      <td>6</td>\n",
       "      <td>9.0</td>\n",
       "    </tr>\n",
       "    <tr>\n",
       "      <th>9</th>\n",
       "      <td>11012</td>\n",
       "      <td>312.849315</td>\n",
       "      <td>Other neighborhoods</td>\n",
       "      <td>House</td>\n",
       "      <td>Entire home/apt</td>\n",
       "      <td>8</td>\n",
       "      <td>2.0</td>\n",
       "      <td>3</td>\n",
       "      <td>3</td>\n",
       "      <td>9.0</td>\n",
       "    </tr>\n",
       "  </tbody>\n",
       "</table>\n",
       "</div>"
      ],
      "text/plain": [
       "      id       price neighbourhood_group_cleansed    property_type  \\\n",
       "0   4291   82.000000          Other neighborhoods            House   \n",
       "1   5682   53.944984                     Delridge        Apartment   \n",
       "2   6606   92.849315          Other neighborhoods        Apartment   \n",
       "3   7369   85.000000                 Capitol Hill      Condominium   \n",
       "4   9419   85.616438          Other neighborhoods            House   \n",
       "5   9460  113.736842                     Downtown  Bed & Breakfast   \n",
       "6   9531  169.500000                 West Seattle            House   \n",
       "7   9534  125.000000                 West Seattle            House   \n",
       "8   9596  121.404959          Other neighborhoods        Apartment   \n",
       "9  11012  312.849315          Other neighborhoods            House   \n",
       "\n",
       "         room_type  accommodates  bathrooms  bedrooms  beds  \\\n",
       "0     Private room             2        1.0         1     1   \n",
       "1  Entire home/apt             2        1.0         1     1   \n",
       "2  Entire home/apt             2        1.0         1     1   \n",
       "3  Entire home/apt             2        1.0         1     1   \n",
       "4     Private room             2        3.0         1     1   \n",
       "5     Private room             2        1.0         1     1   \n",
       "6  Entire home/apt             4        1.0         2     5   \n",
       "7  Entire home/apt             3        1.0         2     2   \n",
       "8  Entire home/apt             6        1.0         1     6   \n",
       "9  Entire home/apt             8        2.0         3     3   \n",
       "\n",
       "   review_scores_value  \n",
       "0                  9.0  \n",
       "1                 10.0  \n",
       "2                  9.0  \n",
       "3                  9.0  \n",
       "4                  9.0  \n",
       "5                 10.0  \n",
       "6                 10.0  \n",
       "7                 10.0  \n",
       "8                  9.0  \n",
       "9                  9.0  "
      ]
     },
     "execution_count": 52,
     "metadata": {},
     "output_type": "execute_result"
    }
   ],
   "source": [
    "df.head(10)"
   ]
  },
  {
   "cell_type": "markdown",
   "metadata": {},
   "source": [
    "Looks like we are ready to get into our analysis!"
   ]
  },
  {
   "cell_type": "markdown",
   "metadata": {},
   "source": [
    "## Exploratory Data Analysis"
   ]
  },
  {
   "cell_type": "markdown",
   "metadata": {},
   "source": [
    "In this section, we will:\n",
    "\n",
    "- Explore summary statistics for each numerical variables\n",
    "- Look further into the distribution of prices between room types, property types and neighbourhoods\n",
    "- Explore correlations between variables with the target variable and with each other"
   ]
  },
  {
   "cell_type": "markdown",
   "metadata": {},
   "source": [
    "#### Explore Summary Statistics"
   ]
  },
  {
   "cell_type": "code",
   "execution_count": 53,
   "metadata": {},
   "outputs": [
    {
     "data": {
      "text/html": [
       "<div>\n",
       "<style scoped>\n",
       "    .dataframe tbody tr th:only-of-type {\n",
       "        vertical-align: middle;\n",
       "    }\n",
       "\n",
       "    .dataframe tbody tr th {\n",
       "        vertical-align: top;\n",
       "    }\n",
       "\n",
       "    .dataframe thead th {\n",
       "        text-align: right;\n",
       "    }\n",
       "</style>\n",
       "<table border=\"1\" class=\"dataframe\">\n",
       "  <thead>\n",
       "    <tr style=\"text-align: right;\">\n",
       "      <th></th>\n",
       "      <th>price</th>\n",
       "      <th>accommodates</th>\n",
       "      <th>bathrooms</th>\n",
       "      <th>bedrooms</th>\n",
       "      <th>beds</th>\n",
       "      <th>review_scores_value</th>\n",
       "    </tr>\n",
       "  </thead>\n",
       "  <tbody>\n",
       "    <tr>\n",
       "      <th>count</th>\n",
       "      <td>3074.000000</td>\n",
       "      <td>3074.000000</td>\n",
       "      <td>3074.000000</td>\n",
       "      <td>3074.000000</td>\n",
       "      <td>3074.00000</td>\n",
       "      <td>3074.000000</td>\n",
       "    </tr>\n",
       "    <tr>\n",
       "      <th>mean</th>\n",
       "      <td>135.495428</td>\n",
       "      <td>3.365973</td>\n",
       "      <td>1.255693</td>\n",
       "      <td>1.291152</td>\n",
       "      <td>1.73650</td>\n",
       "      <td>9.455107</td>\n",
       "    </tr>\n",
       "    <tr>\n",
       "      <th>std</th>\n",
       "      <td>98.283141</td>\n",
       "      <td>1.980648</td>\n",
       "      <td>0.592014</td>\n",
       "      <td>0.865211</td>\n",
       "      <td>1.15177</td>\n",
       "      <td>0.749076</td>\n",
       "    </tr>\n",
       "    <tr>\n",
       "      <th>min</th>\n",
       "      <td>25.000000</td>\n",
       "      <td>1.000000</td>\n",
       "      <td>0.000000</td>\n",
       "      <td>0.000000</td>\n",
       "      <td>1.00000</td>\n",
       "      <td>2.000000</td>\n",
       "    </tr>\n",
       "    <tr>\n",
       "      <th>25%</th>\n",
       "      <td>76.629313</td>\n",
       "      <td>2.000000</td>\n",
       "      <td>1.000000</td>\n",
       "      <td>1.000000</td>\n",
       "      <td>1.00000</td>\n",
       "      <td>9.000000</td>\n",
       "    </tr>\n",
       "    <tr>\n",
       "      <th>50%</th>\n",
       "      <td>108.586849</td>\n",
       "      <td>3.000000</td>\n",
       "      <td>1.000000</td>\n",
       "      <td>1.000000</td>\n",
       "      <td>1.00000</td>\n",
       "      <td>10.000000</td>\n",
       "    </tr>\n",
       "    <tr>\n",
       "      <th>75%</th>\n",
       "      <td>160.657795</td>\n",
       "      <td>4.000000</td>\n",
       "      <td>1.000000</td>\n",
       "      <td>2.000000</td>\n",
       "      <td>2.00000</td>\n",
       "      <td>10.000000</td>\n",
       "    </tr>\n",
       "    <tr>\n",
       "      <th>max</th>\n",
       "      <td>1301.818182</td>\n",
       "      <td>16.000000</td>\n",
       "      <td>8.000000</td>\n",
       "      <td>7.000000</td>\n",
       "      <td>15.00000</td>\n",
       "      <td>10.000000</td>\n",
       "    </tr>\n",
       "  </tbody>\n",
       "</table>\n",
       "</div>"
      ],
      "text/plain": [
       "             price  accommodates    bathrooms     bedrooms        beds  \\\n",
       "count  3074.000000   3074.000000  3074.000000  3074.000000  3074.00000   \n",
       "mean    135.495428      3.365973     1.255693     1.291152     1.73650   \n",
       "std      98.283141      1.980648     0.592014     0.865211     1.15177   \n",
       "min      25.000000      1.000000     0.000000     0.000000     1.00000   \n",
       "25%      76.629313      2.000000     1.000000     1.000000     1.00000   \n",
       "50%     108.586849      3.000000     1.000000     1.000000     1.00000   \n",
       "75%     160.657795      4.000000     1.000000     2.000000     2.00000   \n",
       "max    1301.818182     16.000000     8.000000     7.000000    15.00000   \n",
       "\n",
       "       review_scores_value  \n",
       "count          3074.000000  \n",
       "mean              9.455107  \n",
       "std               0.749076  \n",
       "min               2.000000  \n",
       "25%               9.000000  \n",
       "50%              10.000000  \n",
       "75%              10.000000  \n",
       "max              10.000000  "
      ]
     },
     "execution_count": 53,
     "metadata": {},
     "output_type": "execute_result"
    }
   ],
   "source": [
    "# Summary statistics with .describe()\n",
    "df.describe()"
   ]
  },
  {
   "cell_type": "code",
   "execution_count": 54,
   "metadata": {
    "scrolled": true
   },
   "outputs": [
    {
     "data": {
      "image/png": "[encoded data removed]",
      "text/plain": [
       "<Figure size 720x576 with 6 Axes>"
      ]
     },
     "metadata": {
      "needs_background": "light"
     },
     "output_type": "display_data"
    }
   ],
   "source": [
    "# Distributions of each numerical variable\n",
    "df.hist(figsize = (10,8));"
   ]
  },
  {
   "cell_type": "markdown",
   "metadata": {},
   "source": [
    "Most features are relatively right-skewed, including price, which could mean most listings are relatively small and inexpensive. Note that this answers our first question posed in the [introduction](#Introduction).\n",
    "\n",
    "We notice that 'review_scores_value' is left-skewed though, which means that most listings had relatively high review scores.\n",
    "\n",
    "Below is the distribution of Price with the appropriate axes labels and title:"
   ]
  },
  {
   "cell_type": "code",
   "execution_count": 55,
   "metadata": {},
   "outputs": [
    {
     "data": {
      "image/png": "[encoded data removed]",
      "text/plain": [
       "<Figure size 432x288 with 1 Axes>"
      ]
     },
     "metadata": {
      "needs_background": "light"
     },
     "output_type": "display_data"
    }
   ],
   "source": [
    "df['price'].hist()\n",
    "plt.xlabel('Price in Dollars')\n",
    "ticks_x = [0, 100, 200, 300, 400, 500, 600, 700, 800, 900, 1000]\n",
    "plt.xticks(ticks_x)\n",
    "plt.ylabel('Frequency')\n",
    "plt.title('Distribution of Seattle Airbnb Listing prices');"
   ]
  },
  {
   "cell_type": "markdown",
   "metadata": {},
   "source": [
    "We see that the vast majority of listings are below $150. Let's look further into how prices are distributed among room types and property types."
   ]
  },
  {
   "cell_type": "code",
   "execution_count": 56,
   "metadata": {
    "scrolled": true
   },
   "outputs": [
    {
     "data": {
      "image/png": "[encoded data removed]",
      "text/plain": [
       "<Figure size 432x288 with 1 Axes>"
      ]
     },
     "metadata": {
      "needs_background": "light"
     },
     "output_type": "display_data"
    }
   ],
   "source": [
    "# Average Price per room type\n",
    "\n",
    "df.groupby('room_type')['price'].mean().sort_values(ascending = True).plot.barh()\n",
    "plt.ylabel('Room Type')\n",
    "plt.xlabel('Average Price in Dollars')\n",
    "plt.title('Average Listing Price per Room Type');"
   ]
  },
  {
   "cell_type": "code",
   "execution_count": 57,
   "metadata": {},
   "outputs": [
    {
     "data": {
      "image/png": "[encoded data removed]",
      "text/plain": [
       "<Figure size 432x288 with 1 Axes>"
      ]
     },
     "metadata": {
      "needs_background": "light"
     },
     "output_type": "display_data"
    }
   ],
   "source": [
    "# Average Price per property type\n",
    "\n",
    "df.groupby('property_type')['price'].mean().sort_values(ascending = True).plot.barh()\n",
    "plt.ylabel('Property Type')\n",
    "plt.xlabel('Average Price in Dollars')\n",
    "plt.title('Average Listing Price per Property Type');"
   ]
  },
  {
   "cell_type": "markdown",
   "metadata": {},
   "source": [
    "We see that on average, Entire Homes/Apts are more expensive that private rooms and shared rooms respectively, which makes sense. We also see that boats are by far the most expensive property types on average, which, again we would expect.\n",
    "\n",
    "There must not be many Boat properties in Seattle then, since the distribution of all the listing prices is skewed in favor of the lower prices. We will find out about this soon enough!"
   ]
  },
  {
   "cell_type": "markdown",
   "metadata": {},
   "source": [
    "Let's explore the data further by looking at the most popular room types and property types:"
   ]
  },
  {
   "cell_type": "code",
   "execution_count": 58,
   "metadata": {},
   "outputs": [],
   "source": [
    "base_color = sns.color_palette()[0]"
   ]
  },
  {
   "cell_type": "code",
   "execution_count": 59,
   "metadata": {},
   "outputs": [
    {
     "data": {
      "image/png": "[encoded data removed]",
      "text/plain": [
       "<Figure size 432x288 with 1 Axes>"
      ]
     },
     "metadata": {
      "needs_background": "light"
     },
     "output_type": "display_data"
    }
   ],
   "source": [
    "# Room type popularity\n",
    "sns.countplot(data = df, x = 'room_type', order = df['room_type'].value_counts().index).set_title('Seattle Airbnb Room Types')\n",
    "plt.xlabel('Room Type')\n",
    "plt.ylabel('Count');"
   ]
  },
  {
   "cell_type": "markdown",
   "metadata": {},
   "source": [
    "Just like the distribtion of prices, in general Entire Homes/Apts are more popular than Private and Shared Rooms respectively.\n",
    "\n",
    "Next, let's see where Homes and Apartments fit in the bigger picture. Just how popular are these listings in the Seattle area?"
   ]
  },
  {
   "cell_type": "code",
   "execution_count": 60,
   "metadata": {},
   "outputs": [
    {
     "data": {
      "image/png": "[encoded data removed]",
      "text/plain": [
       "<Figure size 432x288 with 1 Axes>"
      ]
     },
     "metadata": {
      "needs_background": "light"
     },
     "output_type": "display_data"
    }
   ],
   "source": [
    "# Property type popularity\n",
    "\n",
    "sns.countplot(data = df, y = 'property_type', order = df['property_type'].value_counts().index, color = base_color).set_title('Seattle Airbnb Property Types')\n",
    "plt.ylabel('Property Type')\n",
    "plt.xlabel('Count');\n"
   ]
  },
  {
   "cell_type": "markdown",
   "metadata": {},
   "source": [
    "It turns out that Homes and Apartments are by far the most popular listings, while boats are almost non-existent. We see below though, that there are 5 boats in our dataset, less than 1%."
   ]
  },
  {
   "cell_type": "code",
   "execution_count": 61,
   "metadata": {},
   "outputs": [
    {
     "name": "stdout",
     "output_type": "stream",
     "text": [
      "5\n"
     ]
    }
   ],
   "source": [
    "number_of_boats = len(df[df['property_type'] == 'Boat'])\n",
    "print(number_of_boats)"
   ]
  },
  {
   "cell_type": "code",
   "execution_count": 62,
   "metadata": {},
   "outputs": [
    {
     "data": {
      "text/plain": [
       "0.0016265452179570592"
      ]
     },
     "execution_count": 62,
     "metadata": {},
     "output_type": "execute_result"
    }
   ],
   "source": [
    "number_of_boats/len(df)"
   ]
  },
  {
   "cell_type": "markdown",
   "metadata": {},
   "source": [
    "In fact, we also see that Condomoniums and Lofts (the next most expensive listings), though more popular than Boats, do not come close in popularity to Homes and Apartments.\n",
    "\n",
    "We see now, that the distribution of prices makes a lot more sense."
   ]
  },
  {
   "cell_type": "markdown",
   "metadata": {},
   "source": [
    "Next, we look into average listing prices per neighbourhood to see which neighbourhoods are the most expensive and least expensive. \n",
    "\n",
    "We use the narrowed down neighbourhood column so that our visualization does not look too cluttered, and because we only really care about the extremes."
   ]
  },
  {
   "cell_type": "code",
   "execution_count": 63,
   "metadata": {},
   "outputs": [
    {
     "data": {
      "text/plain": [
       "neighbourhood_group_cleansed\n",
       "Ballard                126.289481\n",
       "Beacon Hill             92.366825\n",
       "Capitol Hill           134.112822\n",
       "Cascade                152.878415\n",
       "Central Area           130.106931\n",
       "Delridge                86.769895\n",
       "Downtown               179.339898\n",
       "Interbay                97.247691\n",
       "Lake City               96.596635\n",
       "Magnolia               205.161841\n",
       "Northgate               96.529408\n",
       "Other neighborhoods    124.732712\n",
       "Queen Anne             172.074174\n",
       "Rainier Valley          93.676319\n",
       "Seward Park            109.725634\n",
       "University District    104.188618\n",
       "West Seattle           134.784205\n",
       "Name: price, dtype: float64"
      ]
     },
     "execution_count": 63,
     "metadata": {},
     "output_type": "execute_result"
    }
   ],
   "source": [
    "# Average neighbourhood prices\n",
    "neighb_price = df.groupby('neighbourhood_group_cleansed')['price'].mean()\n",
    "neighb_price"
   ]
  },
  {
   "cell_type": "code",
   "execution_count": 64,
   "metadata": {},
   "outputs": [
    {
     "data": {
      "image/png": "[encoded data removed]",
      "text/plain": [
       "<Figure size 432x288 with 1 Axes>"
      ]
     },
     "metadata": {
      "needs_background": "light"
     },
     "output_type": "display_data"
    }
   ],
   "source": [
    "neighb_price.sort_values(ascending = True).plot.barh()\n",
    "plt.ylabel('Neighbourhood')\n",
    "plt.xlabel('Average Price in Dollars')\n",
    "plt.title('Average Listing Price per neighbourhood');"
   ]
  },
  {
   "cell_type": "markdown",
   "metadata": {},
   "source": [
    "From the chart above, we see that on average, Magnolia and Downtown Seattle have the most expensive listings, while Delridge and Beacon Hill have the most expensive listings."
   ]
  },
  {
   "cell_type": "markdown",
   "metadata": {},
   "source": [
    "#### Explore Correlations\n",
    "\n",
    "Here, we explore correlations between variables with the target variable and with each other"
   ]
  },
  {
   "cell_type": "code",
   "execution_count": 65,
   "metadata": {
    "scrolled": true
   },
   "outputs": [
    {
     "data": {
      "text/html": [
       "<div>\n",
       "<style scoped>\n",
       "    .dataframe tbody tr th:only-of-type {\n",
       "        vertical-align: middle;\n",
       "    }\n",
       "\n",
       "    .dataframe tbody tr th {\n",
       "        vertical-align: top;\n",
       "    }\n",
       "\n",
       "    .dataframe thead th {\n",
       "        text-align: right;\n",
       "    }\n",
       "</style>\n",
       "<table border=\"1\" class=\"dataframe\">\n",
       "  <thead>\n",
       "    <tr style=\"text-align: right;\">\n",
       "      <th></th>\n",
       "      <th>price</th>\n",
       "      <th>accommodates</th>\n",
       "      <th>bathrooms</th>\n",
       "      <th>bedrooms</th>\n",
       "      <th>beds</th>\n",
       "      <th>review_scores_value</th>\n",
       "    </tr>\n",
       "  </thead>\n",
       "  <tbody>\n",
       "    <tr>\n",
       "      <th>price</th>\n",
       "      <td>1.000000</td>\n",
       "      <td>0.695030</td>\n",
       "      <td>0.535911</td>\n",
       "      <td>0.649688</td>\n",
       "      <td>0.629883</td>\n",
       "      <td>-0.040762</td>\n",
       "    </tr>\n",
       "    <tr>\n",
       "      <th>accommodates</th>\n",
       "      <td>0.695030</td>\n",
       "      <td>1.000000</td>\n",
       "      <td>0.519341</td>\n",
       "      <td>0.767062</td>\n",
       "      <td>0.861368</td>\n",
       "      <td>-0.066896</td>\n",
       "    </tr>\n",
       "    <tr>\n",
       "      <th>bathrooms</th>\n",
       "      <td>0.535911</td>\n",
       "      <td>0.519341</td>\n",
       "      <td>1.000000</td>\n",
       "      <td>0.598875</td>\n",
       "      <td>0.520964</td>\n",
       "      <td>0.015253</td>\n",
       "    </tr>\n",
       "    <tr>\n",
       "      <th>bedrooms</th>\n",
       "      <td>0.649688</td>\n",
       "      <td>0.767062</td>\n",
       "      <td>0.598875</td>\n",
       "      <td>1.000000</td>\n",
       "      <td>0.748724</td>\n",
       "      <td>-0.003174</td>\n",
       "    </tr>\n",
       "    <tr>\n",
       "      <th>beds</th>\n",
       "      <td>0.629883</td>\n",
       "      <td>0.861368</td>\n",
       "      <td>0.520964</td>\n",
       "      <td>0.748724</td>\n",
       "      <td>1.000000</td>\n",
       "      <td>-0.033706</td>\n",
       "    </tr>\n",
       "    <tr>\n",
       "      <th>review_scores_value</th>\n",
       "      <td>-0.040762</td>\n",
       "      <td>-0.066896</td>\n",
       "      <td>0.015253</td>\n",
       "      <td>-0.003174</td>\n",
       "      <td>-0.033706</td>\n",
       "      <td>1.000000</td>\n",
       "    </tr>\n",
       "  </tbody>\n",
       "</table>\n",
       "</div>"
      ],
      "text/plain": [
       "                        price  accommodates  bathrooms  bedrooms      beds  \\\n",
       "price                1.000000      0.695030   0.535911  0.649688  0.629883   \n",
       "accommodates         0.695030      1.000000   0.519341  0.767062  0.861368   \n",
       "bathrooms            0.535911      0.519341   1.000000  0.598875  0.520964   \n",
       "bedrooms             0.649688      0.767062   0.598875  1.000000  0.748724   \n",
       "beds                 0.629883      0.861368   0.520964  0.748724  1.000000   \n",
       "review_scores_value -0.040762     -0.066896   0.015253 -0.003174 -0.033706   \n",
       "\n",
       "                     review_scores_value  \n",
       "price                          -0.040762  \n",
       "accommodates                   -0.066896  \n",
       "bathrooms                       0.015253  \n",
       "bedrooms                       -0.003174  \n",
       "beds                           -0.033706  \n",
       "review_scores_value             1.000000  "
      ]
     },
     "execution_count": 65,
     "metadata": {},
     "output_type": "execute_result"
    }
   ],
   "source": [
    "# Dataframe of correlations between variables\n",
    "correl = df.corr()\n",
    "correl"
   ]
  },
  {
   "cell_type": "markdown",
   "metadata": {},
   "source": [
    "Let's represent these correlations in a heatmap to visualize the relationships better."
   ]
  },
  {
   "cell_type": "code",
   "execution_count": 66,
   "metadata": {
    "scrolled": false
   },
   "outputs": [
    {
     "data": {
      "image/png": "[encoded data removed]",
      "text/plain": [
       "<Figure size 432x288 with 2 Axes>"
      ]
     },
     "metadata": {
      "needs_background": "light"
     },
     "output_type": "display_data"
    }
   ],
   "source": [
    "# Correlation Heatmap\n",
    "sns.heatmap(correl, xticklabels = correl.columns, annot=True, yticklabels = correl.columns, cmap=\"YlGnBu\");"
   ]
  },
  {
   "cell_type": "markdown",
   "metadata": {},
   "source": [
    "It looks like all features except 'review_scores_value' are relatively decent candidates, which is interesting because intuitively, you would think that the review score average for each listing would be somehow correlated with the price. "
   ]
  },
  {
   "cell_type": "markdown",
   "metadata": {},
   "source": [
    "The 'accommodates' feature came out with the strongest relationship with 'price'. Let's see how that looks like in a scatter plot:"
   ]
  },
  {
   "cell_type": "code",
   "execution_count": 67,
   "metadata": {
    "scrolled": true
   },
   "outputs": [
    {
     "data": {
      "image/png": "[encoded data removed]",
      "text/plain": [
       "<Figure size 432x288 with 1 Axes>"
      ]
     },
     "metadata": {
      "needs_background": "light"
     },
     "output_type": "display_data"
    }
   ],
   "source": [
    "plt.scatter(x = df['accommodates'], y = df['price'])\n",
    "plt.xlim(0,18)\n",
    "plt.ylim(0,1500)\n",
    "plt.xlabel('Number of people a listing can accommodate')\n",
    "plt.ylabel('Price in Dollars')\n",
    "plt.show()"
   ]
  },
  {
   "cell_type": "markdown",
   "metadata": {},
   "source": [
    "We see that there is a decent positive relationship there, which corresponds with the correlation coefficient of 0.7. \n",
    "\n",
    "Correlation does not necessarily equal causation though, so we will look further into this in the Regression Analysis section to see whether this feature is indeed not helpful."
   ]
  },
  {
   "cell_type": "markdown",
   "metadata": {},
   "source": [
    "## Regression Analysis"
   ]
  },
  {
   "cell_type": "markdown",
   "metadata": {},
   "source": [
    "We will be using a forward-feature-selection approach for the regression analysis. That is:\n",
    "1. Model any feature first and then compare to other features\n",
    "2. Combine the best features"
   ]
  },
  {
   "cell_type": "markdown",
   "metadata": {},
   "source": [
    "#### Model any feature first and then compare to other features\n",
    "\n",
    "We will start with the 'review_scores_value' feature because it was least correlated, so we will see if we can just eliminate it."
   ]
  },
  {
   "cell_type": "markdown",
   "metadata": {},
   "source": [
    "We look at two indicators in the regression summary to make a decision:\n",
    "\n",
    "- Adjusted R-squared: The closer it is to 1, the better our input feature is at predicting our target variable\n",
    "- P-value: Tests the significance of the relationship between each input feature and our target variable. A higher P-value (greater that 0.05 for a 95% confidence level) means less significance.\n"
   ]
  },
  {
   "cell_type": "markdown",
   "metadata": {},
   "source": [
    "<i> Linear Model 1 -  Feature is: 'review_scores_value' </i>"
   ]
  },
  {
   "cell_type": "code",
   "execution_count": 68,
   "metadata": {},
   "outputs": [
    {
     "data": {
      "text/html": [
       "<table class=\"simpletable\">\n",
       "<tr>\n",
       "        <td>Model:</td>               <td>OLS</td>         <td>Adj. R-squared:</td>      <td>0.001</td>  \n",
       "</tr>\n",
       "<tr>\n",
       "  <td>Dependent Variable:</td>       <td>price</td>             <td>AIC:</td>         <td>36927.6392</td>\n",
       "</tr>\n",
       "<tr>\n",
       "         <td>Date:</td>        <td>2020-12-21 02:17</td>        <td>BIC:</td>         <td>36939.7007</td>\n",
       "</tr>\n",
       "<tr>\n",
       "   <td>No. Observations:</td>        <td>3074</td>         <td>Log-Likelihood:</td>     <td>-18462.</td> \n",
       "</tr>\n",
       "<tr>\n",
       "       <td>Df Model:</td>              <td>1</td>           <td>F-statistic:</td>        <td>5.113</td>  \n",
       "</tr>\n",
       "<tr>\n",
       "     <td>Df Residuals:</td>          <td>3072</td>       <td>Prob (F-statistic):</td>   <td>0.0238</td>  \n",
       "</tr>\n",
       "<tr>\n",
       "      <td>R-squared:</td>            <td>0.002</td>            <td>Scale:</td>          <td>9646.7</td>  \n",
       "</tr>\n",
       "</table>\n",
       "<table class=\"simpletable\">\n",
       "<tr>\n",
       "           <td></td>             <th>Coef.</th>  <th>Std.Err.</th>    <th>t</th>     <th>P>|t|</th>  <th>[0.025</th>   <th>0.975]</th> \n",
       "</tr>\n",
       "<tr>\n",
       "  <th>intercept</th>           <td>186.0639</td>  <td>22.4340</td> <td>8.2938</td>  <td>0.0000</td> <td>142.0768</td> <td>230.0510</td>\n",
       "</tr>\n",
       "<tr>\n",
       "  <th>review_scores_value</th>  <td>-5.3483</td>  <td>2.3653</td>  <td>-2.2612</td> <td>0.0238</td>  <td>-9.9859</td>  <td>-0.7106</td>\n",
       "</tr>\n",
       "</table>\n",
       "<table class=\"simpletable\">\n",
       "<tr>\n",
       "     <td>Omnibus:</td>    <td>2294.650</td>  <td>Durbin-Watson:</td>     <td>1.825</td>  \n",
       "</tr>\n",
       "<tr>\n",
       "  <td>Prob(Omnibus):</td>   <td>0.000</td>  <td>Jarque-Bera (JB):</td> <td>55245.319</td>\n",
       "</tr>\n",
       "<tr>\n",
       "       <td>Skew:</td>       <td>3.322</td>      <td>Prob(JB):</td>       <td>0.000</td>  \n",
       "</tr>\n",
       "<tr>\n",
       "     <td>Kurtosis:</td>    <td>22.677</td>   <td>Condition No.:</td>      <td>121</td>   \n",
       "</tr>\n",
       "</table>"
      ],
      "text/plain": [
       "<class 'statsmodels.iolib.summary2.Summary'>\n",
       "\"\"\"\n",
       "                   Results: Ordinary least squares\n",
       "======================================================================\n",
       "Model:               OLS               Adj. R-squared:      0.001     \n",
       "Dependent Variable:  price             AIC:                 36927.6392\n",
       "Date:                2020-12-21 02:17  BIC:                 36939.7007\n",
       "No. Observations:    3074              Log-Likelihood:      -18462.   \n",
       "Df Model:            1                 F-statistic:         5.113     \n",
       "Df Residuals:        3072              Prob (F-statistic):  0.0238    \n",
       "R-squared:           0.002             Scale:               9646.7    \n",
       "----------------------------------------------------------------------\n",
       "                     Coef.   Std.Err.    t    P>|t|   [0.025   0.975] \n",
       "----------------------------------------------------------------------\n",
       "intercept           186.0639  22.4340  8.2938 0.0000 142.0768 230.0510\n",
       "review_scores_value  -5.3483   2.3653 -2.2612 0.0238  -9.9859  -0.7106\n",
       "----------------------------------------------------------------------\n",
       "Omnibus:              2294.650       Durbin-Watson:          1.825    \n",
       "Prob(Omnibus):        0.000          Jarque-Bera (JB):       55245.319\n",
       "Skew:                 3.322          Prob(JB):               0.000    \n",
       "Kurtosis:             22.677         Condition No.:          121      \n",
       "======================================================================\n",
       "\n",
       "\"\"\""
      ]
     },
     "execution_count": 68,
     "metadata": {},
     "output_type": "execute_result"
    }
   ],
   "source": [
    "df['intercept'] = 1\n",
    "lm = sm.OLS(df['price'], df[['intercept','review_scores_value']])\n",
    "result = lm.fit()\n",
    "result.summary2()"
   ]
  },
  {
   "cell_type": "markdown",
   "metadata": {},
   "source": [
    "Looking at the 'review_scores_value' feature, we already see that it will not be very helpful in our model for two reasons:\n",
    "\n",
    "1. The Adjusted R-Squared is basically 0, Meaning there is no visible relationship.\n",
    "2. The P-value for the intercept is less than the P-value for 'review_scores_value'. This is a big deal, because it suggests that the intercept model (basically just the mean price) is better at predicting the price than a model that includes 'review_scores_value'.\n",
    "\n",
    "Hence, we will not be using this feature in our model."
   ]
  },
  {
   "cell_type": "markdown",
   "metadata": {},
   "source": [
    "<i> Linear Model 2 -  Feature is: 'bathrooms' </i>"
   ]
  },
  {
   "cell_type": "code",
   "execution_count": 69,
   "metadata": {
    "scrolled": true
   },
   "outputs": [
    {
     "data": {
      "text/html": [
       "<table class=\"simpletable\">\n",
       "<tr>\n",
       "        <td>Model:</td>               <td>OLS</td>         <td>Adj. R-squared:</td>      <td>0.287</td>  \n",
       "</tr>\n",
       "<tr>\n",
       "  <td>Dependent Variable:</td>       <td>price</td>             <td>AIC:</td>         <td>35892.0305</td>\n",
       "</tr>\n",
       "<tr>\n",
       "         <td>Date:</td>        <td>2020-12-21 02:17</td>        <td>BIC:</td>         <td>35904.0920</td>\n",
       "</tr>\n",
       "<tr>\n",
       "   <td>No. Observations:</td>        <td>3074</td>         <td>Log-Likelihood:</td>     <td>-17944.</td> \n",
       "</tr>\n",
       "<tr>\n",
       "       <td>Df Model:</td>              <td>1</td>           <td>F-statistic:</td>        <td>1238.</td>  \n",
       "</tr>\n",
       "<tr>\n",
       "     <td>Df Residuals:</td>          <td>3072</td>       <td>Prob (F-statistic):</td>  <td>3.86e-228</td>\n",
       "</tr>\n",
       "<tr>\n",
       "      <td>R-squared:</td>            <td>0.287</td>            <td>Scale:</td>          <td>6887.6</td>  \n",
       "</tr>\n",
       "</table>\n",
       "<table class=\"simpletable\">\n",
       "<tr>\n",
       "      <td></td>       <th>Coef.</th>  <th>Std.Err.</th>    <th>t</th>     <th>P>|t|</th> <th>[0.025</th>  <th>0.975]</th> \n",
       "</tr>\n",
       "<tr>\n",
       "  <th>intercept</th> <td>23.7773</td>  <td>3.5106</td>  <td>6.7731</td>  <td>0.0000</td> <td>16.8940</td> <td>30.6605</td>\n",
       "</tr>\n",
       "<tr>\n",
       "  <th>bathrooms</th> <td>88.9693</td>  <td>2.5288</td>  <td>35.1820</td> <td>0.0000</td> <td>84.0110</td> <td>93.9277</td>\n",
       "</tr>\n",
       "</table>\n",
       "<table class=\"simpletable\">\n",
       "<tr>\n",
       "     <td>Omnibus:</td>    <td>1492.139</td>  <td>Durbin-Watson:</td>     <td>1.840</td>  \n",
       "</tr>\n",
       "<tr>\n",
       "  <td>Prob(Omnibus):</td>   <td>0.000</td>  <td>Jarque-Bera (JB):</td> <td>43416.153</td>\n",
       "</tr>\n",
       "<tr>\n",
       "       <td>Skew:</td>       <td>1.712</td>      <td>Prob(JB):</td>       <td>0.000</td>  \n",
       "</tr>\n",
       "<tr>\n",
       "     <td>Kurtosis:</td>    <td>21.090</td>   <td>Condition No.:</td>       <td>5</td>    \n",
       "</tr>\n",
       "</table>"
      ],
      "text/plain": [
       "<class 'statsmodels.iolib.summary2.Summary'>\n",
       "\"\"\"\n",
       "                  Results: Ordinary least squares\n",
       "===================================================================\n",
       "Model:              OLS              Adj. R-squared:     0.287     \n",
       "Dependent Variable: price            AIC:                35892.0305\n",
       "Date:               2020-12-21 02:17 BIC:                35904.0920\n",
       "No. Observations:   3074             Log-Likelihood:     -17944.   \n",
       "Df Model:           1                F-statistic:        1238.     \n",
       "Df Residuals:       3072             Prob (F-statistic): 3.86e-228 \n",
       "R-squared:          0.287            Scale:              6887.6    \n",
       "---------------------------------------------------------------------\n",
       "             Coef.    Std.Err.      t      P>|t|     [0.025    0.975]\n",
       "---------------------------------------------------------------------\n",
       "intercept   23.7773     3.5106    6.7731   0.0000   16.8940   30.6605\n",
       "bathrooms   88.9693     2.5288   35.1820   0.0000   84.0110   93.9277\n",
       "-------------------------------------------------------------------\n",
       "Omnibus:             1492.139      Durbin-Watson:         1.840    \n",
       "Prob(Omnibus):       0.000         Jarque-Bera (JB):      43416.153\n",
       "Skew:                1.712         Prob(JB):              0.000    \n",
       "Kurtosis:            21.090        Condition No.:         5        \n",
       "===================================================================\n",
       "\n",
       "\"\"\""
      ]
     },
     "execution_count": 69,
     "metadata": {},
     "output_type": "execute_result"
    }
   ],
   "source": [
    "df['intercept'] = 1\n",
    "lm2 = sm.OLS(df['price'], df[['intercept','bathrooms']])\n",
    "result2 = lm2.fit()\n",
    "result2.summary2()"
   ]
  },
  {
   "cell_type": "markdown",
   "metadata": {},
   "source": [
    "The 'bathrooms' feature is clearly helpful to our model given the two factors we stated earlier. But we're not done, let's add more features to the model!"
   ]
  },
  {
   "cell_type": "markdown",
   "metadata": {},
   "source": [
    "<i> Linear Model 3 -  Features are: 'bathrooms', 'beds' </i>"
   ]
  },
  {
   "cell_type": "code",
   "execution_count": 70,
   "metadata": {
    "scrolled": true
   },
   "outputs": [
    {
     "data": {
      "text/html": [
       "<table class=\"simpletable\">\n",
       "<tr>\n",
       "        <td>Model:</td>               <td>OLS</td>         <td>Adj. R-squared:</td>      <td>0.456</td>  \n",
       "</tr>\n",
       "<tr>\n",
       "  <td>Dependent Variable:</td>       <td>price</td>             <td>AIC:</td>         <td>35063.2886</td>\n",
       "</tr>\n",
       "<tr>\n",
       "         <td>Date:</td>        <td>2020-12-21 02:17</td>        <td>BIC:</td>         <td>35081.3808</td>\n",
       "</tr>\n",
       "<tr>\n",
       "   <td>No. Observations:</td>        <td>3074</td>         <td>Log-Likelihood:</td>     <td>-17529.</td> \n",
       "</tr>\n",
       "<tr>\n",
       "       <td>Df Model:</td>              <td>2</td>           <td>F-statistic:</td>        <td>1287.</td>  \n",
       "</tr>\n",
       "<tr>\n",
       "     <td>Df Residuals:</td>          <td>3071</td>       <td>Prob (F-statistic):</td>    <td>0.00</td>   \n",
       "</tr>\n",
       "<tr>\n",
       "      <td>R-squared:</td>            <td>0.456</td>            <td>Scale:</td>          <td>5258.2</td>  \n",
       "</tr>\n",
       "</table>\n",
       "<table class=\"simpletable\">\n",
       "<tr>\n",
       "      <td></td>       <th>Coef.</th>  <th>Std.Err.</th>    <th>t</th>     <th>P>|t|</th> <th>[0.025</th>  <th>0.975]</th> \n",
       "</tr>\n",
       "<tr>\n",
       "  <th>intercept</th> <td>4.7277</td>   <td>3.1288</td>  <td>1.5110</td>  <td>0.1309</td> <td>-1.4071</td> <td>10.8625</td>\n",
       "</tr>\n",
       "<tr>\n",
       "  <th>bathrooms</th> <td>47.3404</td>  <td>2.5886</td>  <td>18.2881</td> <td>0.0000</td> <td>42.2649</td> <td>52.4160</td>\n",
       "</tr>\n",
       "<tr>\n",
       "  <th>beds</th>      <td>41.0727</td>  <td>1.3305</td>  <td>30.8690</td> <td>0.0000</td> <td>38.4638</td> <td>43.6815</td>\n",
       "</tr>\n",
       "</table>\n",
       "<table class=\"simpletable\">\n",
       "<tr>\n",
       "     <td>Omnibus:</td>    <td>1879.919</td>  <td>Durbin-Watson:</td>     <td>1.870</td>  \n",
       "</tr>\n",
       "<tr>\n",
       "  <td>Prob(Omnibus):</td>   <td>0.000</td>  <td>Jarque-Bera (JB):</td> <td>73635.855</td>\n",
       "</tr>\n",
       "<tr>\n",
       "       <td>Skew:</td>       <td>2.299</td>      <td>Prob(JB):</td>       <td>0.000</td>  \n",
       "</tr>\n",
       "<tr>\n",
       "     <td>Kurtosis:</td>    <td>26.532</td>   <td>Condition No.:</td>       <td>7</td>    \n",
       "</tr>\n",
       "</table>"
      ],
      "text/plain": [
       "<class 'statsmodels.iolib.summary2.Summary'>\n",
       "\"\"\"\n",
       "                  Results: Ordinary least squares\n",
       "===================================================================\n",
       "Model:              OLS              Adj. R-squared:     0.456     \n",
       "Dependent Variable: price            AIC:                35063.2886\n",
       "Date:               2020-12-21 02:17 BIC:                35081.3808\n",
       "No. Observations:   3074             Log-Likelihood:     -17529.   \n",
       "Df Model:           2                F-statistic:        1287.     \n",
       "Df Residuals:       3071             Prob (F-statistic): 0.00      \n",
       "R-squared:          0.456            Scale:              5258.2    \n",
       "---------------------------------------------------------------------\n",
       "             Coef.    Std.Err.      t      P>|t|     [0.025    0.975]\n",
       "---------------------------------------------------------------------\n",
       "intercept    4.7277     3.1288    1.5110   0.1309   -1.4071   10.8625\n",
       "bathrooms   47.3404     2.5886   18.2881   0.0000   42.2649   52.4160\n",
       "beds        41.0727     1.3305   30.8690   0.0000   38.4638   43.6815\n",
       "-------------------------------------------------------------------\n",
       "Omnibus:             1879.919      Durbin-Watson:         1.870    \n",
       "Prob(Omnibus):       0.000         Jarque-Bera (JB):      73635.855\n",
       "Skew:                2.299         Prob(JB):              0.000    \n",
       "Kurtosis:            26.532        Condition No.:         7        \n",
       "===================================================================\n",
       "\n",
       "\"\"\""
      ]
     },
     "execution_count": 70,
     "metadata": {},
     "output_type": "execute_result"
    }
   ],
   "source": [
    "df['intercept'] = 1\n",
    "lm3 = sm.OLS(df['price'], df[['intercept','bathrooms', 'beds']])\n",
    "result3 = lm3.fit()\n",
    "result3.summary2()"
   ]
  },
  {
   "cell_type": "markdown",
   "metadata": {},
   "source": [
    "As we can see, the 'beds' feature has significantly improved our model! Let's keep going and see how we can improve it further. This time, we will add two new features: 'bedrooms' and 'accommodates'."
   ]
  },
  {
   "cell_type": "code",
   "execution_count": 71,
   "metadata": {},
   "outputs": [
    {
     "data": {
      "text/html": [
       "<table class=\"simpletable\">\n",
       "<tr>\n",
       "        <td>Model:</td>               <td>OLS</td>         <td>Adj. R-squared:</td>      <td>0.538</td>  \n",
       "</tr>\n",
       "<tr>\n",
       "  <td>Dependent Variable:</td>       <td>price</td>             <td>AIC:</td>         <td>34564.0435</td>\n",
       "</tr>\n",
       "<tr>\n",
       "         <td>Date:</td>        <td>2020-12-21 02:17</td>        <td>BIC:</td>         <td>34594.1972</td>\n",
       "</tr>\n",
       "<tr>\n",
       "   <td>No. Observations:</td>        <td>3074</td>         <td>Log-Likelihood:</td>     <td>-17277.</td> \n",
       "</tr>\n",
       "<tr>\n",
       "       <td>Df Model:</td>              <td>4</td>           <td>F-statistic:</td>        <td>894.0</td>  \n",
       "</tr>\n",
       "<tr>\n",
       "     <td>Df Residuals:</td>          <td>3069</td>       <td>Prob (F-statistic):</td>    <td>0.00</td>   \n",
       "</tr>\n",
       "<tr>\n",
       "      <td>R-squared:</td>            <td>0.538</td>            <td>Scale:</td>          <td>4467.1</td>  \n",
       "</tr>\n",
       "</table>\n",
       "<table class=\"simpletable\">\n",
       "<tr>\n",
       "        <td></td>        <th>Coef.</th>  <th>Std.Err.</th>    <th>t</th>     <th>P>|t|</th>  <th>[0.025</th>  <th>0.975]</th> \n",
       "</tr>\n",
       "<tr>\n",
       "  <th>intercept</th>    <td>-6.8832</td>  <td>2.9689</td>  <td>-2.3184</td> <td>0.0205</td> <td>-12.7045</td> <td>-1.0619</td>\n",
       "</tr>\n",
       "<tr>\n",
       "  <th>bathrooms</th>    <td>30.9943</td>  <td>2.5686</td>  <td>12.0667</td> <td>0.0000</td>  <td>25.9580</td> <td>36.0306</td>\n",
       "</tr>\n",
       "<tr>\n",
       "  <th>beds</th>         <td>0.1948</td>   <td>2.1469</td>  <td>0.0907</td>  <td>0.9277</td>  <td>-4.0148</td> <td>4.4043</td> \n",
       "</tr>\n",
       "<tr>\n",
       "  <th>bedrooms</th>     <td>21.7802</td>  <td>2.3961</td>  <td>9.0899</td>  <td>0.0000</td>  <td>17.0821</td> <td>26.4784</td>\n",
       "</tr>\n",
       "<tr>\n",
       "  <th>accommodates</th> <td>22.2817</td>  <td>1.2866</td>  <td>17.3181</td> <td>0.0000</td>  <td>19.7590</td> <td>24.8044</td>\n",
       "</tr>\n",
       "</table>\n",
       "<table class=\"simpletable\">\n",
       "<tr>\n",
       "     <td>Omnibus:</td>    <td>2183.345</td>  <td>Durbin-Watson:</td>     <td>1.865</td>  \n",
       "</tr>\n",
       "<tr>\n",
       "  <td>Prob(Omnibus):</td>   <td>0.000</td>  <td>Jarque-Bera (JB):</td> <td>94495.670</td>\n",
       "</tr>\n",
       "<tr>\n",
       "       <td>Skew:</td>       <td>2.858</td>      <td>Prob(JB):</td>       <td>0.000</td>  \n",
       "</tr>\n",
       "<tr>\n",
       "     <td>Kurtosis:</td>    <td>29.554</td>   <td>Condition No.:</td>      <td>15</td>    \n",
       "</tr>\n",
       "</table>"
      ],
      "text/plain": [
       "<class 'statsmodels.iolib.summary2.Summary'>\n",
       "\"\"\"\n",
       "                  Results: Ordinary least squares\n",
       "===================================================================\n",
       "Model:              OLS              Adj. R-squared:     0.538     \n",
       "Dependent Variable: price            AIC:                34564.0435\n",
       "Date:               2020-12-21 02:17 BIC:                34594.1972\n",
       "No. Observations:   3074             Log-Likelihood:     -17277.   \n",
       "Df Model:           4                F-statistic:        894.0     \n",
       "Df Residuals:       3069             Prob (F-statistic): 0.00      \n",
       "R-squared:          0.538            Scale:              4467.1    \n",
       "--------------------------------------------------------------------\n",
       "                Coef.   Std.Err.     t     P>|t|    [0.025    0.975]\n",
       "--------------------------------------------------------------------\n",
       "intercept      -6.8832    2.9689  -2.3184  0.0205  -12.7045  -1.0619\n",
       "bathrooms      30.9943    2.5686  12.0667  0.0000   25.9580  36.0306\n",
       "beds            0.1948    2.1469   0.0907  0.9277   -4.0148   4.4043\n",
       "bedrooms       21.7802    2.3961   9.0899  0.0000   17.0821  26.4784\n",
       "accommodates   22.2817    1.2866  17.3181  0.0000   19.7590  24.8044\n",
       "-------------------------------------------------------------------\n",
       "Omnibus:             2183.345      Durbin-Watson:         1.865    \n",
       "Prob(Omnibus):       0.000         Jarque-Bera (JB):      94495.670\n",
       "Skew:                2.858         Prob(JB):              0.000    \n",
       "Kurtosis:            29.554        Condition No.:         15       \n",
       "===================================================================\n",
       "\n",
       "\"\"\""
      ]
     },
     "execution_count": 71,
     "metadata": {},
     "output_type": "execute_result"
    }
   ],
   "source": [
    "df['intercept'] = 1\n",
    "lm4 = sm.OLS(df['price'], df[['intercept','bathrooms', 'beds', 'bedrooms','accommodates']])\n",
    "result4 = lm4.fit()\n",
    "result4.summary2()"
   ]
  },
  {
   "cell_type": "markdown",
   "metadata": {},
   "source": [
    "It looks like the P-value for the 'beds' feature is too high. This means that, though this feature helped improve our model initially, it is actually dentrimental to our model when 'bedrooms' and 'accommodates' are added. Let's take the 'beds' feature out and see what happens."
   ]
  },
  {
   "cell_type": "code",
   "execution_count": 72,
   "metadata": {},
   "outputs": [
    {
     "data": {
      "text/html": [
       "<table class=\"simpletable\">\n",
       "<tr>\n",
       "        <td>Model:</td>               <td>OLS</td>         <td>Adj. R-squared:</td>      <td>0.538</td>  \n",
       "</tr>\n",
       "<tr>\n",
       "  <td>Dependent Variable:</td>       <td>price</td>             <td>AIC:</td>         <td>34562.0518</td>\n",
       "</tr>\n",
       "<tr>\n",
       "         <td>Date:</td>        <td>2020-12-21 02:17</td>        <td>BIC:</td>         <td>34586.1747</td>\n",
       "</tr>\n",
       "<tr>\n",
       "   <td>No. Observations:</td>        <td>3074</td>         <td>Log-Likelihood:</td>     <td>-17277.</td> \n",
       "</tr>\n",
       "<tr>\n",
       "       <td>Df Model:</td>              <td>3</td>           <td>F-statistic:</td>        <td>1192.</td>  \n",
       "</tr>\n",
       "<tr>\n",
       "     <td>Df Residuals:</td>          <td>3070</td>       <td>Prob (F-statistic):</td>    <td>0.00</td>   \n",
       "</tr>\n",
       "<tr>\n",
       "      <td>R-squared:</td>            <td>0.538</td>            <td>Scale:</td>          <td>4465.7</td>  \n",
       "</tr>\n",
       "</table>\n",
       "<table class=\"simpletable\">\n",
       "<tr>\n",
       "        <td></td>        <th>Coef.</th>  <th>Std.Err.</th>    <th>t</th>     <th>P>|t|</th>  <th>[0.025</th>  <th>0.975]</th> \n",
       "</tr>\n",
       "<tr>\n",
       "  <th>intercept</th>    <td>-6.8950</td>  <td>2.9656</td>  <td>-2.3249</td> <td>0.0201</td> <td>-12.7098</td> <td>-1.0801</td>\n",
       "</tr>\n",
       "<tr>\n",
       "  <th>bathrooms</th>    <td>31.0127</td>  <td>2.5601</td>  <td>12.1138</td> <td>0.0000</td>  <td>25.9930</td> <td>36.0324</td>\n",
       "</tr>\n",
       "<tr>\n",
       "  <th>bedrooms</th>     <td>21.8295</td>  <td>2.3333</td>  <td>9.3557</td>  <td>0.0000</td>  <td>17.2546</td> <td>26.4045</td>\n",
       "</tr>\n",
       "<tr>\n",
       "  <th>accommodates</th> <td>22.3599</td>  <td>0.9552</td>  <td>23.4090</td> <td>0.0000</td>  <td>20.4870</td> <td>24.2327</td>\n",
       "</tr>\n",
       "</table>\n",
       "<table class=\"simpletable\">\n",
       "<tr>\n",
       "     <td>Omnibus:</td>    <td>2183.290</td>  <td>Durbin-Watson:</td>     <td>1.865</td>  \n",
       "</tr>\n",
       "<tr>\n",
       "  <td>Prob(Omnibus):</td>   <td>0.000</td>  <td>Jarque-Bera (JB):</td> <td>94466.759</td>\n",
       "</tr>\n",
       "<tr>\n",
       "       <td>Skew:</td>       <td>2.858</td>      <td>Prob(JB):</td>       <td>0.000</td>  \n",
       "</tr>\n",
       "<tr>\n",
       "     <td>Kurtosis:</td>    <td>29.550</td>   <td>Condition No.:</td>      <td>13</td>    \n",
       "</tr>\n",
       "</table>"
      ],
      "text/plain": [
       "<class 'statsmodels.iolib.summary2.Summary'>\n",
       "\"\"\"\n",
       "                  Results: Ordinary least squares\n",
       "===================================================================\n",
       "Model:              OLS              Adj. R-squared:     0.538     \n",
       "Dependent Variable: price            AIC:                34562.0518\n",
       "Date:               2020-12-21 02:17 BIC:                34586.1747\n",
       "No. Observations:   3074             Log-Likelihood:     -17277.   \n",
       "Df Model:           3                F-statistic:        1192.     \n",
       "Df Residuals:       3070             Prob (F-statistic): 0.00      \n",
       "R-squared:          0.538            Scale:              4465.7    \n",
       "--------------------------------------------------------------------\n",
       "                Coef.   Std.Err.     t     P>|t|    [0.025    0.975]\n",
       "--------------------------------------------------------------------\n",
       "intercept      -6.8950    2.9656  -2.3249  0.0201  -12.7098  -1.0801\n",
       "bathrooms      31.0127    2.5601  12.1138  0.0000   25.9930  36.0324\n",
       "bedrooms       21.8295    2.3333   9.3557  0.0000   17.2546  26.4045\n",
       "accommodates   22.3599    0.9552  23.4090  0.0000   20.4870  24.2327\n",
       "-------------------------------------------------------------------\n",
       "Omnibus:             2183.290      Durbin-Watson:         1.865    \n",
       "Prob(Omnibus):       0.000         Jarque-Bera (JB):      94466.759\n",
       "Skew:                2.858         Prob(JB):              0.000    \n",
       "Kurtosis:            29.550        Condition No.:         13       \n",
       "===================================================================\n",
       "\n",
       "\"\"\""
      ]
     },
     "execution_count": 72,
     "metadata": {},
     "output_type": "execute_result"
    }
   ],
   "source": [
    "df['intercept'] = 1\n",
    "lm5 = sm.OLS(df['price'], df[['intercept','bathrooms', 'bedrooms','accommodates']])\n",
    "result5 = lm5.fit()\n",
    "result5.summary2()"
   ]
  },
  {
   "cell_type": "markdown",
   "metadata": {},
   "source": [
    "We see that the Adjusted R-squared value stayed the same but the F-statistic has increased. While the F-statistic is beyond the scope of this project, I should mention that when fine-tuning our regression model, in general we want this value to be as far away from 1 as possible. Hence, the increase here is good for our model.\n",
    "\n",
    "As far as numeric features go, this is where we will stop for this model. But we're not done yet! Later on, we will inspect the feasibility of adding categorical variables to bolster our model."
   ]
  },
  {
   "cell_type": "markdown",
   "metadata": {},
   "source": [
    "#### VIFs and Multicollinearity"
   ]
  },
  {
   "cell_type": "markdown",
   "metadata": {},
   "source": [
    "Here, we will check for the potential effects of multicollinearity in the model using Variance Inflation Factors (VIFs). As a convention, if a feature has a VIF that is greater than 10, existing multicollinearity could be harmful to the model, and hence that feature should potentially be removed from the model."
   ]
  },
  {
   "cell_type": "code",
   "execution_count": 73,
   "metadata": {},
   "outputs": [],
   "source": [
    "y, X = dmatrices('price ~ bathrooms + bedrooms + accommodates', df, return_type = 'dataframe')\n",
    "vif = pd.DataFrame()\n",
    "vif[\"VIF Factor\"] = [variance_inflation_factor(X.values, i) for i in range(X.shape[1])]\n",
    "vif[\"features\"] = X.columns"
   ]
  },
  {
   "cell_type": "code",
   "execution_count": 74,
   "metadata": {},
   "outputs": [
    {
     "data": {
      "text/html": [
       "<div>\n",
       "<style scoped>\n",
       "    .dataframe tbody tr th:only-of-type {\n",
       "        vertical-align: middle;\n",
       "    }\n",
       "\n",
       "    .dataframe tbody tr th {\n",
       "        vertical-align: top;\n",
       "    }\n",
       "\n",
       "    .dataframe thead th {\n",
       "        text-align: right;\n",
       "    }\n",
       "</style>\n",
       "<table border=\"1\" class=\"dataframe\">\n",
       "  <thead>\n",
       "    <tr style=\"text-align: right;\">\n",
       "      <th></th>\n",
       "      <th>VIF Factor</th>\n",
       "      <th>features</th>\n",
       "    </tr>\n",
       "  </thead>\n",
       "  <tbody>\n",
       "    <tr>\n",
       "      <th>0</th>\n",
       "      <td>6.054204</td>\n",
       "      <td>Intercept</td>\n",
       "    </tr>\n",
       "    <tr>\n",
       "      <th>1</th>\n",
       "      <td>1.580747</td>\n",
       "      <td>bathrooms</td>\n",
       "    </tr>\n",
       "    <tr>\n",
       "      <th>2</th>\n",
       "      <td>2.804548</td>\n",
       "      <td>bedrooms</td>\n",
       "    </tr>\n",
       "    <tr>\n",
       "      <th>3</th>\n",
       "      <td>2.463001</td>\n",
       "      <td>accommodates</td>\n",
       "    </tr>\n",
       "  </tbody>\n",
       "</table>\n",
       "</div>"
      ],
      "text/plain": [
       "   VIF Factor      features\n",
       "0    6.054204     Intercept\n",
       "1    1.580747     bathrooms\n",
       "2    2.804548      bedrooms\n",
       "3    2.463001  accommodates"
      ]
     },
     "execution_count": 74,
     "metadata": {},
     "output_type": "execute_result"
    }
   ],
   "source": [
    "vif"
   ]
  },
  {
   "cell_type": "markdown",
   "metadata": {},
   "source": [
    "VIFs do not seem to be a problem for this model. Therefore, we can keep all the features we currently have!"
   ]
  },
  {
   "cell_type": "markdown",
   "metadata": {},
   "source": [
    "#### Adding categorical input features to our model"
   ]
  },
  {
   "cell_type": "code",
   "execution_count": 75,
   "metadata": {},
   "outputs": [],
   "source": [
    "df[['Entire home/apt', 'Private room', 'Shared room']] =  pd.get_dummies(df['room_type'])"
   ]
  },
  {
   "cell_type": "code",
   "execution_count": 76,
   "metadata": {},
   "outputs": [
    {
     "data": {
      "text/html": [
       "<div>\n",
       "<style scoped>\n",
       "    .dataframe tbody tr th:only-of-type {\n",
       "        vertical-align: middle;\n",
       "    }\n",
       "\n",
       "    .dataframe tbody tr th {\n",
       "        vertical-align: top;\n",
       "    }\n",
       "\n",
       "    .dataframe thead th {\n",
       "        text-align: right;\n",
       "    }\n",
       "</style>\n",
       "<table border=\"1\" class=\"dataframe\">\n",
       "  <thead>\n",
       "    <tr style=\"text-align: right;\">\n",
       "      <th></th>\n",
       "      <th>id</th>\n",
       "      <th>price</th>\n",
       "      <th>neighbourhood_group_cleansed</th>\n",
       "      <th>property_type</th>\n",
       "      <th>room_type</th>\n",
       "      <th>accommodates</th>\n",
       "      <th>bathrooms</th>\n",
       "      <th>bedrooms</th>\n",
       "      <th>beds</th>\n",
       "      <th>review_scores_value</th>\n",
       "      <th>intercept</th>\n",
       "      <th>Entire home/apt</th>\n",
       "      <th>Private room</th>\n",
       "      <th>Shared room</th>\n",
       "    </tr>\n",
       "  </thead>\n",
       "  <tbody>\n",
       "    <tr>\n",
       "      <th>0</th>\n",
       "      <td>4291</td>\n",
       "      <td>82.000000</td>\n",
       "      <td>Other neighborhoods</td>\n",
       "      <td>House</td>\n",
       "      <td>Private room</td>\n",
       "      <td>2</td>\n",
       "      <td>1.0</td>\n",
       "      <td>1</td>\n",
       "      <td>1</td>\n",
       "      <td>9.0</td>\n",
       "      <td>1</td>\n",
       "      <td>0</td>\n",
       "      <td>1</td>\n",
       "      <td>0</td>\n",
       "    </tr>\n",
       "    <tr>\n",
       "      <th>1</th>\n",
       "      <td>5682</td>\n",
       "      <td>53.944984</td>\n",
       "      <td>Delridge</td>\n",
       "      <td>Apartment</td>\n",
       "      <td>Entire home/apt</td>\n",
       "      <td>2</td>\n",
       "      <td>1.0</td>\n",
       "      <td>1</td>\n",
       "      <td>1</td>\n",
       "      <td>10.0</td>\n",
       "      <td>1</td>\n",
       "      <td>1</td>\n",
       "      <td>0</td>\n",
       "      <td>0</td>\n",
       "    </tr>\n",
       "    <tr>\n",
       "      <th>2</th>\n",
       "      <td>6606</td>\n",
       "      <td>92.849315</td>\n",
       "      <td>Other neighborhoods</td>\n",
       "      <td>Apartment</td>\n",
       "      <td>Entire home/apt</td>\n",
       "      <td>2</td>\n",
       "      <td>1.0</td>\n",
       "      <td>1</td>\n",
       "      <td>1</td>\n",
       "      <td>9.0</td>\n",
       "      <td>1</td>\n",
       "      <td>1</td>\n",
       "      <td>0</td>\n",
       "      <td>0</td>\n",
       "    </tr>\n",
       "    <tr>\n",
       "      <th>3</th>\n",
       "      <td>7369</td>\n",
       "      <td>85.000000</td>\n",
       "      <td>Capitol Hill</td>\n",
       "      <td>Condominium</td>\n",
       "      <td>Entire home/apt</td>\n",
       "      <td>2</td>\n",
       "      <td>1.0</td>\n",
       "      <td>1</td>\n",
       "      <td>1</td>\n",
       "      <td>9.0</td>\n",
       "      <td>1</td>\n",
       "      <td>1</td>\n",
       "      <td>0</td>\n",
       "      <td>0</td>\n",
       "    </tr>\n",
       "    <tr>\n",
       "      <th>4</th>\n",
       "      <td>9419</td>\n",
       "      <td>85.616438</td>\n",
       "      <td>Other neighborhoods</td>\n",
       "      <td>House</td>\n",
       "      <td>Private room</td>\n",
       "      <td>2</td>\n",
       "      <td>3.0</td>\n",
       "      <td>1</td>\n",
       "      <td>1</td>\n",
       "      <td>9.0</td>\n",
       "      <td>1</td>\n",
       "      <td>0</td>\n",
       "      <td>1</td>\n",
       "      <td>0</td>\n",
       "    </tr>\n",
       "  </tbody>\n",
       "</table>\n",
       "</div>"
      ],
      "text/plain": [
       "     id      price neighbourhood_group_cleansed property_type  \\\n",
       "0  4291  82.000000          Other neighborhoods         House   \n",
       "1  5682  53.944984                     Delridge     Apartment   \n",
       "2  6606  92.849315          Other neighborhoods     Apartment   \n",
       "3  7369  85.000000                 Capitol Hill   Condominium   \n",
       "4  9419  85.616438          Other neighborhoods         House   \n",
       "\n",
       "         room_type  accommodates  bathrooms  bedrooms  beds  \\\n",
       "0     Private room             2        1.0         1     1   \n",
       "1  Entire home/apt             2        1.0         1     1   \n",
       "2  Entire home/apt             2        1.0         1     1   \n",
       "3  Entire home/apt             2        1.0         1     1   \n",
       "4     Private room             2        3.0         1     1   \n",
       "\n",
       "   review_scores_value  intercept  Entire home/apt  Private room  Shared room  \n",
       "0                  9.0          1                0             1            0  \n",
       "1                 10.0          1                1             0            0  \n",
       "2                  9.0          1                1             0            0  \n",
       "3                  9.0          1                1             0            0  \n",
       "4                  9.0          1                0             1            0  "
      ]
     },
     "execution_count": 76,
     "metadata": {},
     "output_type": "execute_result"
    }
   ],
   "source": [
    "df.head()"
   ]
  },
  {
   "cell_type": "code",
   "execution_count": 77,
   "metadata": {
    "scrolled": true
   },
   "outputs": [
    {
     "data": {
      "text/html": [
       "<table class=\"simpletable\">\n",
       "<tr>\n",
       "        <td>Model:</td>               <td>OLS</td>         <td>Adj. R-squared:</td>      <td>0.584</td>  \n",
       "</tr>\n",
       "<tr>\n",
       "  <td>Dependent Variable:</td>       <td>price</td>             <td>AIC:</td>         <td>34237.1837</td>\n",
       "</tr>\n",
       "<tr>\n",
       "         <td>Date:</td>        <td>2020-12-21 02:17</td>        <td>BIC:</td>         <td>34273.3681</td>\n",
       "</tr>\n",
       "<tr>\n",
       "   <td>No. Observations:</td>        <td>3074</td>         <td>Log-Likelihood:</td>     <td>-17113.</td> \n",
       "</tr>\n",
       "<tr>\n",
       "       <td>Df Model:</td>              <td>5</td>           <td>F-statistic:</td>        <td>865.0</td>  \n",
       "</tr>\n",
       "<tr>\n",
       "     <td>Df Residuals:</td>          <td>3068</td>       <td>Prob (F-statistic):</td>    <td>0.00</td>   \n",
       "</tr>\n",
       "<tr>\n",
       "      <td>R-squared:</td>            <td>0.585</td>            <td>Scale:</td>          <td>4015.2</td>  \n",
       "</tr>\n",
       "</table>\n",
       "<table class=\"simpletable\">\n",
       "<tr>\n",
       "         <td></td>           <th>Coef.</th>  <th>Std.Err.</th>    <th>t</th>     <th>P>|t|</th>  <th>[0.025</th>   <th>0.975]</th> \n",
       "</tr>\n",
       "<tr>\n",
       "  <th>intercept</th>       <td>-25.0436</td>  <td>3.0780</td>  <td>-8.1364</td> <td>0.0000</td> <td>-31.0786</td> <td>-19.0085</td>\n",
       "</tr>\n",
       "<tr>\n",
       "  <th>bathrooms</th>        <td>37.5232</td>  <td>2.4533</td>  <td>15.2947</td> <td>0.0000</td>  <td>32.7129</td>  <td>42.3336</td>\n",
       "</tr>\n",
       "<tr>\n",
       "  <th>bedrooms</th>         <td>28.3807</td>  <td>2.2403</td>  <td>12.6680</td> <td>0.0000</td>  <td>23.9879</td>  <td>32.7734</td>\n",
       "</tr>\n",
       "<tr>\n",
       "  <th>accommodates</th>     <td>13.2734</td>  <td>1.0294</td>  <td>12.8941</td> <td>0.0000</td>  <td>11.2550</td>  <td>15.2918</td>\n",
       "</tr>\n",
       "<tr>\n",
       "  <th>Entire home/apt</th>  <td>49.4147</td>  <td>2.8817</td>  <td>17.1477</td> <td>0.0000</td>  <td>43.7644</td>  <td>55.0650</td>\n",
       "</tr>\n",
       "<tr>\n",
       "  <th>Shared room</th>     <td>-28.3090</td>  <td>6.9836</td>  <td>-4.0537</td> <td>0.0001</td> <td>-42.0020</td> <td>-14.6161</td>\n",
       "</tr>\n",
       "</table>\n",
       "<table class=\"simpletable\">\n",
       "<tr>\n",
       "     <td>Omnibus:</td>    <td>2427.347</td>  <td>Durbin-Watson:</td>      <td>1.847</td>  \n",
       "</tr>\n",
       "<tr>\n",
       "  <td>Prob(Omnibus):</td>   <td>0.000</td>  <td>Jarque-Bera (JB):</td> <td>137299.092</td>\n",
       "</tr>\n",
       "<tr>\n",
       "       <td>Skew:</td>       <td>3.279</td>      <td>Prob(JB):</td>        <td>0.000</td>  \n",
       "</tr>\n",
       "<tr>\n",
       "     <td>Kurtosis:</td>    <td>35.077</td>   <td>Condition No.:</td>       <td>28</td>    \n",
       "</tr>\n",
       "</table>"
      ],
      "text/plain": [
       "<class 'statsmodels.iolib.summary2.Summary'>\n",
       "\"\"\"\n",
       "                  Results: Ordinary least squares\n",
       "===================================================================\n",
       "Model:              OLS              Adj. R-squared:     0.584     \n",
       "Dependent Variable: price            AIC:                34237.1837\n",
       "Date:               2020-12-21 02:17 BIC:                34273.3681\n",
       "No. Observations:   3074             Log-Likelihood:     -17113.   \n",
       "Df Model:           5                F-statistic:        865.0     \n",
       "Df Residuals:       3068             Prob (F-statistic): 0.00      \n",
       "R-squared:          0.585            Scale:              4015.2    \n",
       "-------------------------------------------------------------------\n",
       "                  Coef.   Std.Err.    t    P>|t|   [0.025   0.975] \n",
       "-------------------------------------------------------------------\n",
       "intercept        -25.0436   3.0780 -8.1364 0.0000 -31.0786 -19.0085\n",
       "bathrooms         37.5232   2.4533 15.2947 0.0000  32.7129  42.3336\n",
       "bedrooms          28.3807   2.2403 12.6680 0.0000  23.9879  32.7734\n",
       "accommodates      13.2734   1.0294 12.8941 0.0000  11.2550  15.2918\n",
       "Entire home/apt   49.4147   2.8817 17.1477 0.0000  43.7644  55.0650\n",
       "Shared room      -28.3090   6.9836 -4.0537 0.0001 -42.0020 -14.6161\n",
       "-------------------------------------------------------------------\n",
       "Omnibus:            2427.347      Durbin-Watson:         1.847     \n",
       "Prob(Omnibus):      0.000         Jarque-Bera (JB):      137299.092\n",
       "Skew:               3.279         Prob(JB):              0.000     \n",
       "Kurtosis:           35.077        Condition No.:         28        \n",
       "===================================================================\n",
       "\n",
       "\"\"\""
      ]
     },
     "execution_count": 77,
     "metadata": {},
     "output_type": "execute_result"
    }
   ],
   "source": [
    "df['intercept'] = 1\n",
    "lm6 = sm.OLS(df['price'], df[['intercept','bathrooms', 'bedrooms','accommodates', 'Entire home/apt', 'Shared room']])\n",
    "result6 = lm6.fit()\n",
    "result6.summary2()"
   ]
  },
  {
   "cell_type": "markdown",
   "metadata": {},
   "source": [
    "An Adjusted R-squared of 0.584 with a P-value of 0 for each coefficient brings us to our last model adjustment. While more can potentially be done to improve our prediction capabilities (say using another model), that is beyond the scope of this project. With these features though, we are able to explain 58.4% of the variation in Rental Prices through simple linear regression. While this is not perfect, it does at least explain the majority of the variation, and hence is a good predictive starting point."
   ]
  },
  {
   "cell_type": "markdown",
   "metadata": {},
   "source": [
    "## Conclusion\n",
    "With this project, we were able to garner good insights into Airbnb listings. We discovered that most listings were on the more affordable end of prices, while the most expensive listings were a few Boats, Condominiums and Lofts. We also discovered that majority of the listings were Homes and Apartments, and that most times, the Entire Home or Apartment was listed. \n",
    "Finally, we saw that on average, Magnolia and Downtown Seattle have the most expensive listings, while Delridge and Beacon Hill have the most expensive listings.\n",
    "\n",
    "### Areas of Improvement\n",
    "Evidently, a simple linear regression is not robust enough to predict rental prices accurately, but it is a good starting point. \n",
    "A noteworthy improvement would be incorporating a Sentiment Analysis using renter reviews, and then seeing how Sentiment Scores relate to prices.\n",
    "Another potential improvement would be using a Polynomial Regression to help predict prices. However, this approach would create a relatively higher risk of overfitting, and would need to be carefully regulated. \n",
    "The intention is to implement similar techniques and more in future projects and blogposts."
   ]
  },
  {
   "cell_type": "code",
   "execution_count": null,
   "metadata": {},
   "outputs": [],
   "source": []
  }
 ],
 "metadata": {
  "kernelspec": {
   "display_name": "Python 3",
   "language": "python",
   "name": "python3"
  },
  "language_info": {
   "codemirror_mode": {
    "name": "ipython",
    "version": 3
   },
   "file_extension": ".py",
   "mimetype": "text/x-python",
   "name": "python",
   "nbconvert_exporter": "python",
   "pygments_lexer": "ipython3",
   "version": "3.8.3"
  }
 },
 "nbformat": 4,
 "nbformat_minor": 4
}
